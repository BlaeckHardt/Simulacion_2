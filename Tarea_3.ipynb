{
 "cells": [
  {
   "cell_type": "markdown",
   "metadata": {},
   "source": [
    "# Tarea 3 - Simulación del experimento de Buffon: \n",
    "##    Simular el experimento que se ve en el video: https://www.youtube.com/watch?v=f5fcIEQEgWQ \n"
   ]
  },
  {
   "cell_type": "code",
   "execution_count": null,
   "metadata": {},
   "outputs": [],
   "source": [
    "import random \n",
    "import matplotlib.pyplot as plt \n",
    "import numpy as np \n",
    "y = np.linspace(-1, 13, 1200)\n",
    "i = 0\n",
    "while i < 12: #esto grafica nuestras lineas\n",
    "  x = np.sqrt((y/y))+i \n",
    "  plt.plot(x, y, color = 'red', markersize = 1)\n",
    "  i = i+1\n",
    "N = int(input(\"¿Cuantos dardos se lanzarán? \")) #Numero de dardos que se lanzan\n",
    "m = 0 #numero de dardos que hay dentro de la circunferencia\n",
    "count = 0 \n",
    "fig = plt.figure(1, figsize = (10, 10)) # Aquí fijamos el formato de la gráfica para que sea cuadrada.\n",
    "while count < N:\n",
    "  x_1 = random.uniform(0.9, 12)\n",
    "  y_1 = random.uniform(0.9, 12)\n",
    "  x_2 = random.uniform(x_1-1, x_1+1)\n",
    "  y_2 = ((((x_2-x_1)**2)+1)**(1/2))+y_1\n",
    "  xg = np.linspace(x_1,x_2,100)\n",
    "  yg = np.sqrt((((y_2-y_1)/(x_2-x_1))*(xg-x_1))**2)+y_1\n",
    "  plt.plot(xg, yg, color = 'blue', markersize = 1) #Punto aleatorio que se graficará para hacer el cuerpo del alfiler\n",
    "  plt.scatter(x_2, y_2, s = 20, c = 'blue') #linea que se graficará para hacer la cabeza del alfiler\n",
    "  if x_2 > x_1:\n",
    "    x_3 = int(x_1)\n",
    "    xx = x_2-x_1\n",
    "    z = x_1-x_3+xx #este es el numero que nos ayudara a comprobar\n",
    "    if z > 1:\n",
    "      m = m+1 #el alfiler tocó la linea\n",
    "  else:\n",
    "    x_3 = int(x_2)\n",
    "    xx = x_1-x_2\n",
    "    z = x_2-x_3+xx #este es el numero que nos ayudara a comprobar\n",
    "    if z > 1:\n",
    "      m = m+1 #el alfiler tocó la linea\n",
    "  count = count+1\n",
    "plt.title(\"Estimación de pi \")\n",
    "plt.xlabel('X')\n",
    "plt.ylabel('Y')\n",
    "plt.grid()\n",
    "plt.show()\n",
    "pi = 2*(N/m) #valor de pi\n",
    "print (\"el valor de pi es: \",pi)\n",
    "print (\"\")\n"
   ]
  }
 ],
 "metadata": {
  "kernelspec": {
   "display_name": "Python 3",
   "language": "python",
   "name": "python3"
  },
  "language_info": {
   "codemirror_mode": {
    "name": "ipython",
    "version": 3
   },
   "file_extension": ".py",
   "mimetype": "text/x-python",
   "name": "python",
   "nbconvert_exporter": "python",
   "pygments_lexer": "ipython3",
   "version": "3.7.3"
  }
 },
 "nbformat": 4,
 "nbformat_minor": 2
}
