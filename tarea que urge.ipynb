{
 "cells": [
  {
   "cell_type": "markdown",
   "metadata": {},
   "source": [
    "# **Instrucciones**\n",
    "## Elabore esta tarea en una notebook independiente, registrando sus resultados o las salidas de los programas. En todos los casos en que sea posible, resuelva los problemas mediante simulación y después verifique los resultados con las fórmulas correspondientes.\n",
    "## **1. En la biblioteca.**\n",
    "## Un encargado de la biblioteca es el único en el mostrador durante todo su turno de trabajo. Las llegadas al mostrador siguen una distribución de Poisson con una media de 8 por hora. Cada usuario de la biblioteca es atendido de uno en uno, y el tiempo de servicio sigue una distribución exponencial con una media de 5 minutos.\n",
    "\n",
    "## a) ¿Cuál es la probabilidad de que se forme cola?\n",
    "\n",
    "> Obtengamos $\\lambda$ (Número de llegadas por unidad de tiempo) y $\\mu$ (Número de servicios por unidad de tiempo) \n",
    "\n",
    "> $\\lambda = \\frac{8}{60} = 0.13$ y $\\mu$ \n",
    "\n",
    "> $\\mu = \\frac{1}{5} = 0.2$ \n",
    "\n",
    "## b) ¿Cuál es la longitud media de la cola?\n",
    "\n",
    "## c) ¿Cuál es el tiempo medio que un cliente pasa en la biblioteca hasta que le han atendido?\n",
    "\n",
    "> $\\frac{W_s + W_q}{2} = 11.79$ (minutos) \n",
    "\n",
    "## d) ¿Cuál es el tiempo medio que un cliente pasa en la cola esperando a que le atiendan?\n",
    "\n",
    "> $\\frac{L_s + L_q}{2} = 1.535$ (minutos) \n",
    "\n",
    "## e) El encargado de la biblioteca pasa su tiempo en que no hay clientes clasificando artículos de revistas. Si puede clasificar 22 fichas por hora como media cuando trabaja continuamente, ¿cuántas fichas puede ordenar durante su trabajo?\n",
    "\n"
   ]
  },
  {
   "cell_type": "markdown",
   "metadata": {},
   "source": [
    "## **2. Lavado de autos.**\n",
    "## Un pequeño autoservicio de lavado que solo tienen capacidad para atender de uno en uno a los autos que llegan, tiene un aparcamiento para 10 coches, incluyendo el que está siendo lavado. La empresa ha estimado que los coches llegan siguiendo una distribución de Poisson con una media de 20 coches/hora, el tiempo de servicio sigue una distribución exponencial de 12 minutos. La empresa abre durante 10 horas al día. ¿Cuál es la media de coches perdidos cada día debido a las limitaciones de espacio?\n",
    "\n"
   ]
  },
  {
   "cell_type": "markdown",
   "metadata": {},
   "source": [
    "## **3. John Macko.**\n",
    "## John Macko es alumno en la U de Ozark. Hace trabajos extraños para aumentar sus ingresos. Las peticiones de trabajo llegan en promedio cada 5 días, pero el tiempo entre ellas es exponencial. El tiempo para terminar un trabajo también es exponencial, con una media de 4 días.\n",
    "\n",
    "## a) ¿Cuál es la probabilidad de que le falte trabajo a John?\n",
    "\n",
    "> La probabilidad de que le falte trabajo a John está dada por: $P_0 = 1 - \\rho $ \n",
    "\n",
    "> Siendo $\\rho$ la congestión del sistema: $\\rho = \\frac{\\lambda}{\\mu}$ \n",
    "\n",
    "> De la ecuación anterior $\\lambda$ son el numero de llegadas por unidad de tiempo (día): $\\lambda = \\frac{1}{5} = 0.2$\n",
    "\n",
    "> De la ecuación anterior $\\mu$ son el numero de servicios por unidad de tiempo (día): $\\mu = \\frac{1}{4} = 0.25$\n",
    "\n",
    "> Finalizando con: $\\rho = \\frac{\\lambda}{\\mu} = \\frac{0.2}{0.25} = 0.8$ \n",
    "\n",
    "> Es decir, la probabilidad de que le falte trabajo a John es de $P_0 = 1 - \\rho = 1 - 0.8 = 0.2$ \n",
    "\n",
    "## b) Si John cobra unos $50 por cada trabajo, ¿cuál es su ingreso mensual promedio?\n",
    "\n",
    "> El ingreso estará dado por: $P*\\mu(t)$ \n",
    "\n",
    "> Siendo $\\mu(t)$ el numero de servicios por unidad de tiempo (día): $\\mu = \\frac{1}{4} = 0.25$ \n",
    "\n",
    "> De la ecuación anterior $P$ es la cantidad de dinero que cobra por cada trabajo ($50)\n",
    "\n",
    "> Proseguimos con su ingreso por día: $Ingreso_{día} = P*\\mu(t) = 50*0.25 = 12.5 $ \n",
    "\n",
    "> Y finalizamos con su ingreso mensual (considerando que el mes tiene 30 días): $Ingreso_{mensual} = Ingreso_{día} *30 = 375 $ \n",
    "\n",
    "> Es decir, el ingreso mensual promedio de John es de $375 \n",
    "\n",
    "## c) Si al final del semestre John decide subcontratar los trabajos pendientes a $40 cada uno, ¿cuánto debe esperar pagar en promedio?\n",
    "\n",
    "> De los ejercicios anteriores tenemos que: $\\mu = 0.25$ y $\\lambda = 0.2$ por lo que \n",
    "\n",
    "> $W_s = \\frac{1}{\\mu-\\lambda} = \\frac{1}{0.25-0.2} = \\frac{1}{0.05} = 20$ \n",
    "\n",
    "> $W_q$ es el Tiempo medio de espera de los clientes en la cola. \n",
    "\n",
    "> $W_q = W_s - \\frac{1}{\\mu} = 20 - \\frac{1}{0.25} = 20 – 4 = 16$ \n",
    "\n",
    "> $L_q$ es el número medio de clientes en la cola. \n",
    "\n",
    "> $L_q = \\lambda * W_q = 0.2*16 = 3.2$, traducido estos serían los trabajos pendientes. \n",
    "\n",
    "> Multiplicamos el número de trabajos pendientes por la paga dandonos $L_q*40 = 3.2*40 = 128$ \n",
    "\n",
    "> Es decir, debe esperar pagar $128 en promedio \n",
    "\n"
   ]
  }
 ],
 "metadata": {
  "kernelspec": {
   "display_name": "Python 3",
   "language": "python",
   "name": "python3"
  },
  "language_info": {
   "codemirror_mode": {
    "name": "ipython",
    "version": 3
   },
   "file_extension": ".py",
   "mimetype": "text/x-python",
   "name": "python",
   "nbconvert_exporter": "python",
   "pygments_lexer": "ipython3",
   "version": "3.7.3"
  }
 },
 "nbformat": 4,
 "nbformat_minor": 2
}
