{
 "cells": [
  {
   "cell_type": "markdown",
   "metadata": {},
   "source": [
    "# **Instrucciones**\n",
    "## Elabore esta tarea en una notebook independiente, registrando sus resultados o las salidas de los programas. En todos los casos en que sea posible, resuelva los problemas mediante simulación y después verifique los resultados con las fórmulas correspondientes.\n",
    "## **1. En la biblioteca.**\n",
    "## Un encargado de la biblioteca es el único en el mostrador durante todo su turno de trabajo. Las llegadas al mostrador siguen una distribución de Poisson con una media de 8 por hora. Cada usuario de la biblioteca es atendido de uno en uno, y el tiempo de servicio sigue una distribución exponencial con una media de 5 minutos.\n",
    "\n",
    "## a) ¿Cuál es la probabilidad de que se forme cola?\n",
    "\n",
    "## b) ¿Cuál es la longitud media de la cola?\n",
    "\n",
    "## c) ¿Cuál es el tiempo medio que un cliente pasa en la biblioteca hasta que le han atendido?\n",
    "\n",
    "## d) ¿Cuál es el tiempo medio que un cliente pasa en la cola esperando a que le atiendan?\n",
    "\n",
    "## e) El encargado de la biblioteca pasa su tiempo en que no hay clientes clasificando artículos de revistas. Si puede clasificar 22 fichas por hora como media cuando trabaja continuamente, ¿cuántas fichas puede ordenar durante su trabajo?\n",
    "\n",
    "```plain\n",
    "```\n",
    "\n",
    "# Ejercicio 7: \n",
    "### \n",
    "### 1. Mostrar que $\\theta_1 $ es un estimador insesgado, es decir, que $E(\\theta_1 ) = pc(b-a) = I$\n"
   ]
  },
  
  {
   "cell_type": "markdown",
   "metadata": {},
   "source": [
    "# Ejercicio 7: \n",
    "### \n",
    "### 1. Mostrar que $\\theta_1 $ es un estimador insesgado, es decir, que $E(\\theta_1 ) = pc(b-a) = I$\n"
   ]
  },
  
  {
   "cell_type": "markdown",
   "metadata": {},
   "source": [
    "### \n",
    "### 2. Mostrar que $V(\\theta_1 )=\\frac{I}{N}[c(b-a)-I]$"
   ]
  },
  {
   "cell_type": "code",
   "execution_count": null,
   "metadata": {},
   "outputs": [],
   "source": [
    "import random\n",
    "print(\"ok, ahora deberás adivinar que colores saldrán xd\")\n",
    "lis=[]\n",
    "print(\"\")\n",
    "print(\"   Blanco (Bl)\")\n",
    "print(\"   Negro (Ne)\")\n",
    "print(\"   Rojo (Ro)\")\n",
    "print(\"   Azul (Az)\")\n",
    "print(\"   Verde (Ve)\")\n",
    "print(\"\")\n",
    "print (\"ok, tendrás que escribir que colores saldran y en que orden, por ejemplo, rojo, rojo, azul, blanco, negro (Ro, Ro, Az, Bl, Ne), capicci? Unicamente 5\")\n",
    "l = 0\n",
    "while l < 5:\n",
    "  f = str(input(\">> \"))\n",
    "  lis.append(f)\n",
    "  l = l+1\n",
    "m = 0\n",
    "reptar = 0\n",
    "while m < 5:\n",
    "  t = random.random()\n",
    "  if t < 0.2:\n",
    "    if lis[m] = = 'Bl': #Blanco\n",
    "      print (\"Blanco, ¡Ganaste!\")\n",
    "      reptar = reptar+1\n",
    "    else:\n",
    "      print (\"Blanco, ¡Perdiste! xD\")\n",
    "  elif t > 0.2 and t < 0.4:\n",
    "    if lis[m] = = 'Ne': #Negro\n",
    "      print (\"Negro, ¡Ganaste!\")\n",
    "      reptar = reptar+1\n",
    "    else:\n",
    "      print (\"Negro, ¡Perdiste! xD\")\n",
    "  elif t > 0.4 and t < 0.6:\n",
    "    if lis[m] = = 'Ro': #Rojo\n",
    "      print (\"Rojo, ¡Ganaste!\")\n",
    "      reptar = reptar+1\n",
    "    else:\n",
    "      print (\"Rojo, ¡Perdiste! xD\")\n",
    "  elif t > 0.6 and t < 0.8:\n",
    "    if lis[m] = = 'Az': #Azul\n",
    "      print (\"Azul, ¡Ganaste!\")\n",
    "      reptar = reptar+1\n",
    "    else:\n",
    "      print (\"Azul, ¡Perdiste! xD\")\n",
    "  else:\n",
    "    if lis[m] = = 'Ve': #Verde\n",
    "      print (\"Verde, ¡Ganaste!\")\n",
    "      reptar = reptar+1\n",
    "    else:\n",
    "      print (\"Verde, ¡Perdiste! xD\")\n",
    "  m = m+1\n",
    "print(\"\")\n",
    "print (\"Veamos cuantos adivinaste xd\")\n",
    "print(\"\")\n",
    "print (\"Adivinaste: \",reptar,\" Nada mal :y\")\n",
    "print(\"\")\n" 
   ]
  }
 ],
 "metadata": {
  "kernelspec": {
   "display_name": "Python 3",
   "language": "python",
   "name": "python3"
  },
  "language_info": {
   "codemirror_mode": {
    "name": "ipython",
    "version": 3
   },
   "file_extension": ".py",
   "mimetype": "text/x-python",
   "name": "python",
   "nbconvert_exporter": "python",
   "pygments_lexer": "ipython3",
   "version": "3.7.3"
  }
 },
 "nbformat": 4,
 "nbformat_minor": 2
}
