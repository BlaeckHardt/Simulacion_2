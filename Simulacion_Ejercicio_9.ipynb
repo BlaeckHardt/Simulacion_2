{
 "cells": [
  {
   "cell_type": "markdown",
   "metadata": {},
   "source": [
    "# Ejercicio 9: \n",
    "### \n",
    "### Elegir al azar una ciudad de la Lista despues de hacer una mezcla. \n"
   ]
  },
  {
   "cell_type": "code",
   "execution_count": null,
   "metadata": {},
   "outputs": [],
   "source": [
    "import random \n",
    "import numpy as np \n",
    "print (\"Elegir al azar una ciudad de la Lista despues de hacer una mezcla.\") \n",
    "Lista = ['Rome','New York','London','Berlin','Moskov', 'Los Angeles','Paris','Madrid','Tokio','Toronto'] \n",
    "print (\"Primero, nuestra lista es la siguiente: \") \n",
    "print (Lista) \n",
    "print (\"Ahora la mezclaremos... obvio por la velocidad de nuestro procesador la mezcla ya está lista\") \n",
    "random.shuffle(Lista) \n",
    "print (\"Solo como demostración te mostrare la lista mezclada: \") \n",
    "print (Lista) \n",
    "random.shuffle(Lista) \n",
    "print (\"Ahora elegiremos una ciudad al azar\") \n",
    "Ciudad = random.choice(Lista) \n", 
    "print (\"La ciudad elegida es - \", Ciudad) \n",
    "print (\"Ahora juguemos... no tienes opcion porque no lo programe ',:v\") \n",
    "a = str(input(\"elige una ciudad al azar... y escribela bien >:v \")) \n",
    "random.shuffle(Lista) \n",
    "Ciudad = random.choice(Lista) #si, reciclé la variable xD \n",
    "if Ciudad = = a: \n",
    "  print (\"Wow, adivinaste, la ciudad elegida es: \", Ciudad) \n",
    "else: \n",
    "  print (\"Te equivocaste, la ciudad elegida era: \", Ciudad,\" xD\") \n"
   ]
  },
  {
   "cell_type": "markdown",
   "metadata": {},
   "source": [
    "### \n",
    "###    2. Elegir al azar tres ciudades después de una mezcla. \n"
   ]
  },
  {
   "cell_type": "code",
   "execution_count": null,
   "metadata": {},
   "outputs": [],
   "source": [
    "import random \n",
    "import numpy as np \n",
    "print (\"Elegir al azar tres ciudades después de una mezcla.\") \n",
    "Lista = ['Rome','New York','London','Berlin','Moskov', 'Los Angeles','Paris','Madrid','Tokio','Toronto'] \n",
    "print (\"Primero, nuestra lista es la siguiente: \") \n",
    "print (Lista) \n",
    "print (\"Ahora la mezclaremos... obvio por la velocidad de nuestro procesador la mezcla ya está lista\") \n",
    "random.shuffle(Lista) \n",
    "print (\"Solo como demostración te mostrare la lista mezclada: \") \n",
    "print (Lista) \n",
    "random.shuffle(Lista) \n",
    "print (\"Ahora elegiremos 3 ciudades al azar\") \n",
    "Ciudad = random.sample(Lista, 3) \n",
    "print (\"Las ciudades elegidas son - \", Ciudad) \n",
    "print (\"Ahora juguemos... no es cierto, no lo programe xD\") \n"
   ]
  }
 ],
 "metadata": {
  "kernelspec": {
   "display_name": "Python 3",
   "language": "python",
   "name": "python3"
  },
  "language_info": {
   "codemirror_mode": {
    "name": "ipython",
    "version": 3
   },
   "file_extension": ".py",
   "mimetype": "text/x-python",
   "name": "python",
   "nbconvert_exporter": "python",
   "pygments_lexer": "ipython3",
   "version": "3.7.3"
  }
 },
 "nbformat": 4,
 "nbformat_minor": 2
}
