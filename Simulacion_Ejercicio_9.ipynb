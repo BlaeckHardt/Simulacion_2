{
 "cells": [
  {
   "cell_type": "markdown",
   "metadata": {},
   "source": [
    "# Ejercicio 9: \n",
    "### La función random.gaus() genera una muestra de números aleatorios normalmente distribuidos. \n",
    "### \n",
    "### 1. Elegir al azar una ciudad de la Lista despues de hacer una mezcla. \n"
   ]
  },
  {
   "cell_type": "code",
   "execution_count": null,
   "metadata": {},
   "outputs": [],
   "source": [
    "import random \n",
    "import numpy as np \n",
    "print (\"Elegir al azar una ciudad de la Lista despues de hacer una mezcla.\") \n",
    "Lista = ['Rome','New York','London','Berlin','Moskov', 'Los Angeles','Paris','Madrid','Tokio','Toronto'] \n",
    "print (\"Primero, nuestra lista es la siguiente: \") \n",
    "print (Lista) \n",
    "print (\"Ahora la mezclaremos... obvio por la velocidad de nuestro procesador la mezcla ya está lista\") \n",
    "random.shuffle(Lista) \n",
    "print (\"Solo como demostración te mostrare la lista mezclada: \") \n",
    "print (Lista) \n",
    "random.shuffle(Lista) \n",
    "print (\"Ahora elegiremos una ciudad al azar\") \n",
    "Ciudad = random.choice(Lista) \n", 
    "print (\"La ciudad elegida es - \", Ciudad) \n",
    "print (\"Ahora juguemos... no tienes opcion porque no lo programe ',:v\") \n",
    "a = str(input(\"elige una ciudad al azar... y escribela bien >:v \")) \n",
    "random.shuffle(Lista) \n",
    "Ciudad = random.choice(Lista) #si, reciclé la variable xD \n",
    "if Ciudad = = a: \n",
    "  print (\"Wow, adivinaste, la ciudad elegida es: \", Ciudad) \n",
    "else: \n",
    "  print (\"Te equivocaste, la ciudad elegida era: \", Ciudad,\" xD\") \n"
   ]
  },
  {
   "cell_type": "markdown",
   "metadata": {},
   "source": [
    "### \n",
    "###    2. Elegir al azar tres ciudades después de una mezcla. \n"
   ]
  },
  {
   "cell_type": "code",
   "execution_count": null,
   "metadata": {},
   "outputs": [],
   "source": [
    "import random\n",
    "print(\"ok, ahora deberás adivinar que colores saldrán xd\")\n",
    "lis=[]\n",
    "print(\"\")\n",
    "print(\"   Blanco (Bl)\")\n",
    "print(\"   Negro (Ne)\")\n",
    "print(\"   Rojo (Ro)\")\n",
    "print(\"   Azul (Az)\")\n",
    "print(\"   Verde (Ve)\")\n",
    "print(\"\")\n",
    "print (\"ok, tendrás que escribir que colores saldran y en que orden, por ejemplo, rojo, rojo, azul, blanco, negro (Ro, Ro, Az, Bl, Ne), capicci? Unicamente 5\")\n",
    "l = 0\n",
    "while l < 5:\n",
    "  f = str(input(\">> \"))\n",
    "  lis.append(f)\n",
    "  l = l+1\n",
    "m = 0\n",
    "reptar = 0\n",
    "while m < 5:\n",
    "  t = random.random()\n",
    "  if t < 0.2:\n",
    "    if lis[m] = = 'Bl': #Blanco\n",
    "      print (\"Blanco, ¡Ganaste!\")\n",
    "      reptar = reptar+1\n",
    "    else:\n",
    "      print (\"Blanco, ¡Perdiste! xD\")\n",
    "  elif t > 0.2 and t < 0.4:\n",
    "    if lis[m] = = 'Ne': #Negro\n",
    "      print (\"Negro, ¡Ganaste!\")\n",
    "      reptar = reptar+1\n",
    "    else:\n",
    "      print (\"Negro, ¡Perdiste! xD\")\n",
    "  elif t > 0.4 and t < 0.6:\n",
    "    if lis[m] = = 'Ro': #Rojo\n",
    "      print (\"Rojo, ¡Ganaste!\")\n",
    "      reptar = reptar+1\n",
    "    else:\n",
    "      print (\"Rojo, ¡Perdiste! xD\")\n",
    "  elif t > 0.6 and t < 0.8:\n",
    "    if lis[m] = = 'Az': #Azul\n",
    "      print (\"Azul, ¡Ganaste!\")\n",
    "      reptar = reptar+1\n",
    "    else:\n",
    "      print (\"Azul, ¡Perdiste! xD\")\n",
    "  else:\n",
    "    if lis[m] = = 'Ve': #Verde\n",
    "      print (\"Verde, ¡Ganaste!\")\n",
    "      reptar = reptar+1\n",
    "    else:\n",
    "      print (\"Verde, ¡Perdiste! xD\")\n",
    "  m = m+1\n",
    "print(\"\")\n",
    "print (\"Veamos cuantos adivinaste xd\")\n",
    "print(\"\")\n",
    "print (\"Adivinaste: \",reptar,\" Nada mal :y\")\n",
    "print(\"\")\n"
   ]
  }
 ],
 "metadata": {
  "kernelspec": {
   "display_name": "Python 3",
   "language": "python",
   "name": "python3"
  },
  "language_info": {
   "codemirror_mode": {
    "name": "ipython",
    "version": 3
   },
   "file_extension": ".py",
   "mimetype": "text/x-python",
   "name": "python",
   "nbconvert_exporter": "python",
   "pygments_lexer": "ipython3",
   "version": "3.7.3"
  }
 },
 "nbformat": 4,
 "nbformat_minor": 2
}
