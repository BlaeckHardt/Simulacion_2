{
 "cells": [
  {
   "cell_type": "markdown",
   "metadata": {},
   "source": [
    "# Ejercicio 10: \n",
    "### \n",
    "### Generar muestras e histograma de las funciones: triangular(), betavariate(), expovariate(), gammavariate(), lognormvariate(), normalvariate(), vonmisesvariate(), paretovariate() y weibullvariate() \n"
   ]
  },
  {
   "cell_type": "code",
   "execution_count": null,
   "metadata": {},
   "outputs": [],
   "source": [
    "import random\n",
    "print(\"De los siguientes colores escoge uno xD\")\n",
    "print(\"   Blanco (Bl)\")\n",
    "print(\"   Negro (Ne)\")\n",
    "print(\"   Rojo (Ro)\")\n",
    "print(\"   Azul (Az)\")\n",
    "print(\"   Verde (Ve)\")\n",
    "c = str(input(\">> \"))\n",
    "print(\"\")\n",
    "w = random.random()\n",
    "if w < 0.2:\n",
    "  if c = = 'Bl': #Blanco\n",
    "    print (\"Blanco, ¡Ganaste!\")\n",
    "  else:\n",
    "    print (\"Blanco, ¡Perdiste! xD\")\n",
    "elif w > 0.2 and w < 0.4:\n",
    "  if c = = 'Ne': #Negro\n",
    "    print (\"Negro, ¡Ganaste!\")\n",
    "  else:\n",
    "    print (\"Negro, ¡Perdiste! xD\")\n",
    "elif w > 0.4 and w < 0.6:\n",
    "  if c = = 'Ro': #Rojo\n",
    "    print (\"Rojo, ¡Ganaste!\")\n",
    "  else:\n",
    "    print (\"Rojo, ¡Perdiste! xD\")\n",
    "elif w > 0.6 and w < 0.8:\n",
    "  if c = = 'Az': #Azul\n",
    "    print (\"Azul, ¡Ganaste!\")\n",
    "  else:\n",
    "    print (\"Azul, ¡Perdiste! xD\")\n",
    "else:\n",
    "  if c = = 'Ve': #Verde\n",
    "    print (\"Verde, ¡Ganaste!\")\n",
    "  else:\n",
    "    print (\"Verde, ¡Perdiste! xD\")\n"
   ]
  },
 ],
 "metadata": {
  "kernelspec": {
   "display_name": "Python 3",
   "language": "python",
   "name": "python3"
  },
  "language_info": {
   "codemirror_mode": {
    "name": "ipython",
    "version": 3
   },
   "file_extension": ".py",
   "mimetype": "text/x-python",
   "name": "python",
   "nbconvert_exporter": "python",
   "pygments_lexer": "ipython3",
   "version": "3.7.3"
  }
 },
 "nbformat": 4,
 "nbformat_minor": 2
}
