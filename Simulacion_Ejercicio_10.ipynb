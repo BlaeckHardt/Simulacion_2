{
 "cells": [
  {
   "cell_type": "markdown",
   "metadata": {},
   "source": [
    "# Ejercicio 10: \n",
    "## \n",
    "##    Generar muestras e histograma de las funciones: triangular(), betavariate(), expovariate(), gammavariate(), lognormvariate(), normalvariate(), vonmisesvariate(), paretovariate() y weibullvariate()\n",
    "## \n",
    "### triangular( ) \n"
   ]
  },
  {
   "cell_type": "code",
   "execution_count": null,
   "metadata": {},
   "outputs": [],
   "source": [
    "# Construimos el histograma de una muestra de 10000 números aleatorios normalmente distribuidos \n",
    "import random \n",
    "import matplotlib.pyplot as plt \n",
    "nums = [] \n",
    "mu = 100 \n",
    "sigma = 50 \n",
    "for i in range(10000): \n",
    "  temp = random.triangular(mu, sigma) \n",
    "  nums.append(temp) \n",
    "plt.hist(nums, bins = 200) \n",
    "plt.show() \n"
   ]
  },
  {
   "cell_type": "markdown",
   "metadata": {},
   "source": [
    "### betavariate( ) \n"
   ]
  },
  {
   "cell_type": "code",
   "execution_count": null,
   "metadata": {},
   "outputs": [],
   "source": [
    "# Construimos el histograma de una muestra de 10000 números aleatorios normalmente distribuidos \n",
    "import random \n",
    "import matplotlib.pyplot as plt \n",
    "nums = [] \n",
    "mu = 100 \n",
    "sigma = 50 \n",
    "for i in range(10000): \n",
    "  temp = random.betavariate(mu, sigma) \n",
    "  nums.append(temp) \n",
    "plt.hist(nums, bins = 200) \n",
    "plt.show() \n"
   ]
  },
  {
   "cell_type": "markdown",
   "metadata": {},
   "source": [
    "### expovariate( ) \n"
   ]
  },
  {
   "cell_type": "code",
   "execution_count": null,
   "metadata": {},
   "outputs": [],
   "source": [
    "# Construimos el histograma de una muestra de 10000 números aleatorios normalmente distribuidos \n",
    "import random \n",
    "import matplotlib.pyplot as plt \n",
    "nums = [] \n",
    "mu = 100 \n",
    "sigma = 50 \n",
    "for i in range(10000): \n",
    "  temp = random.expovariate(mu, sigma) \n",
    "  nums.append(temp) \n",
    "plt.hist(nums, bins = 200) \n",
    "plt.show() \n"
   ]
  },
  {
   "cell_type": "markdown",
   "metadata": {},
   "source": [
    "### gammavariate( ) \n"
   ]
  },
  {
   "cell_type": "code",
   "execution_count": null,
   "metadata": {},
   "outputs": [],
   "source": [
    "# Construimos el histograma de una muestra de 10000 números aleatorios normalmente distribuidos \n",
    "import random \n",
    "import matplotlib.pyplot as plt \n",
    "nums = [] \n",
    "mu = 100 \n",
    "sigma = 50 \n",
    "for i in range(10000): \n",
    "  temp = random.gammavariate(mu, sigma) \n",
    "  nums.append(temp) \n",
    "plt.hist(nums, bins = 200) \n",
    "plt.show() \n"
   ]
  },
  {
   "cell_type": "markdown",
   "metadata": {},
   "source": [
    "### lognormvariate( ) \n"
   ]
  },
  {
   "cell_type": "code",
   "execution_count": null,
   "metadata": {},
   "outputs": [],
   "source": [
    "# Construimos el histograma de una muestra de 10000 números aleatorios normalmente distribuidos \n",
    "import random \n",
    "import matplotlib.pyplot as plt \n",
    "nums = [] \n",
    "mu = 100 \n",
    "sigma = 50 \n",
    "for i in range(10000): \n",
    "  temp = random.lognormvariate(mu, sigma) \n",
    "  nums.append(temp) \n",
    "plt.hist(nums, bins = 200) \n",
    "plt.show() \n"
   ]
  },
  {
   "cell_type": "markdown",
   "metadata": {},
   "source": [
    "### normalvariate( ) \n"
   ]
  },
  {
   "cell_type": "code",
   "execution_count": null,
   "metadata": {},
   "outputs": [],
   "source": [
    "# Construimos el histograma de una muestra de 10000 números aleatorios normalmente distribuidos \n",
    "import random \n",
    "import matplotlib.pyplot as plt \n",
    "nums = [] \n",
    "mu = 100 \n",
    "sigma = 50 \n",
    "for i in range(10000): \n",
    "  temp = random.normalvariate(mu, sigma) \n",
    "  nums.append(temp) \n",
    "plt.hist(nums, bins = 200) \n",
    "plt.show() \n"
   ]
  },
  {
   "cell_type": "markdown",
   "metadata": {},
   "source": [
    "### vonmisesvariate( ) \n"
   ]
  },
  {
   "cell_type": "code",
   "execution_count": null,
   "metadata": {},
   "outputs": [],
   "source": [
    "# Construimos el histograma de una muestra de 10000 números aleatorios normalmente distribuidos \n",
    "import random \n",
    "import matplotlib.pyplot as plt \n",
    "nums = [] \n",
    "mu = 100 \n",
    "sigma = 50 \n",
    "for i in range(10000): \n",
    "  temp = random.vonmisesvariate(mu, sigma) \n",
    "  nums.append(temp) \n",
    "plt.hist(nums, bins = 200) \n",
    "plt.show() \n"
   ]
  },
  {
   "cell_type": "markdown",
   "metadata": {},
   "source": [
    "### paretovariate( ) \n"
   ]
  },
  {
   "cell_type": "code",
   "execution_count": null,
   "metadata": {},
   "outputs": [],
   "source": [
    "# Construimos el histograma de una muestra de 10000 números aleatorios normalmente distribuidos \n",
    "import random \n",
    "import matplotlib.pyplot as plt \n",
    "nums = [] \n",
    "mu = 100 \n",
    "sigma = 50 \n",
    "for i in range(10000): \n",
    "  temp = random.paretovariate(mu, sigma) \n",
    "  nums.append(temp) \n",
    "plt.hist(nums, bins = 200) \n",
    "plt.show() \n"
   ]
  },
  {
   "cell_type": "markdown",
   "metadata": {},
   "source": [
    "### weibullvariate( ) \n"
   ]
  },
  {
   "cell_type": "code",
   "execution_count": null,
   "metadata": {},
   "outputs": [],
   "source": [
    "# Construimos el histograma de una muestra de 10000 números aleatorios normalmente distribuidos \n",
    "import random \n",
    "import matplotlib.pyplot as plt \n",
    "nums = [] \n",
    "mu = 100 \n",
    "sigma = 50 \n",
    "for i in range(10000): \n",
    "  temp = random.weibullvariate(mu, sigma) \n",
    "  nums.append(temp) \n",
    "plt.hist(nums, bins = 200) \n",
    "plt.show() \n"
   ]
  }
 ],
 "metadata": {
  "kernelspec": {
   "display_name": "Python 3",
   "language": "python",
   "name": "python3"
  },
  "language_info": {
   "codemirror_mode": {
    "name": "ipython",
    "version": 3
   },
   "file_extension": ".py",
   "mimetype": "text/x-python",
   "name": "python",
   "nbconvert_exporter": "python",
   "pygments_lexer": "ipython3",
   "version": "3.7.3"
  }
 },
 "nbformat": 4,
 "nbformat_minor": 2
}
