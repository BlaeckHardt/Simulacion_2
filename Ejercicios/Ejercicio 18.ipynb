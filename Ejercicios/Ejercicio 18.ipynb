{
 "cells": [
  {
   "cell_type": "markdown",
   "metadata": {},
   "source": [
    "## Ejercicio 18: \n",
    "Sean: \n",
    "\n",
    "* a = [1, 2, 3, 4, 5] \n",
    "* b = [6,7,8,9,10] \n"
   ]
  },
  {
   "cell_type": "markdown",
   "metadata": {},
   "source": [
   "Calcular el promedio de:\n"
   ]
  },
  {
   "cell_type": "markdown",
   "metadata": {},
   "source": [
   "* a \n",
   "* b \n"
   ]
  },
  {
   "cell_type": "code",
   "execution_count": null,
   "metadata": {},
   "outputs": [],
   "source": [
    "a = [1, 2, 3, 4, 5] \n",
    "b = [6,7,8,9,10] \n",
    "proma = sum(a)/len(a) \n",
    "promb = sum(b)/len(b) \n",
    "print 'Promedio de la lista a: ',proma\n",
    "print 'Promedio de la lista b: ',promb\n",
    "print '5a (5*promedio):',5*proma\n",
    "print 'a+b (promedios):',proma+promb\n"
   ]
  },
  {
   "cell_type": "markdown",
   "metadata": {},
   "source": [
    "* 5a ¿Es igual a 5*(promedio de a)?\n",
    "Estrictamente no, lo que se obtine es la lista a escrita 5 veces, por otro lado, si se usa la variable a como el promedio esto si se cumple.\n",
    "* a + b ¿Es igual a la suma de los promedios?\n",
    "Estrictamente no, lo que se obtine es la lista a y b combinadas, por otro lado, si se toma a ambas variables como el promedio de las listas, esto si se cumple.\n",
    "\n"
   ]
  }
 ],
 "metadata": {
  "kernelspec": {
   "display_name": "Python 3",
   "language": "python",
   "name": "python3"
  },
  "language_info": {
   "codemirror_mode": {
    "name": "ipython",
    "version": 3
   },
   "file_extension": ".py",
   "mimetype": "text/x-python",
   "name": "python",
   "nbconvert_exporter": "python",
   "pygments_lexer": "ipython3",
   "version": "3.7.3"
  }
 },
 "nbformat": 4,
 "nbformat_minor": 2
}
