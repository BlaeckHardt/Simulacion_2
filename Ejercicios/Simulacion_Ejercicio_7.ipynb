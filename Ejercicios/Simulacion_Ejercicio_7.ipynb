{
 "cells": [
  {
   "cell_type": "markdown",
   "metadata": {},
   "source": [
    "# Ejercicio 7: \n",
    "### \n",
    "### 1. Mostrar que $\\theta_1 $ es un estimador insesgado, es decir, que $E(\\theta_1 ) = pc(b-a) = I$\n"
   ]
  },
  
  {
   "cell_type": "markdown",
   "metadata": {},
   "source": [
    "# Ejercicio 7: \n",
    "### \n",
    "### 1. Mostrar que $\\theta_1 $ es un estimador insesgado, es decir, que $E(\\theta_1 ) = pc(b-a) = I$\n"
   ]
  },
  
  {
   "cell_type": "markdown",
   "metadata": {},
   "source": [
    "### \n",
    "### 2. Mostrar que $V(\\theta_1 )=\\frac{I}{N}[c(b-a)-I]$"
   ]
  },
  {
   "cell_type": "code",
   "execution_count": null,
   "metadata": {},
   "outputs": [],
   "source": [
    "import random\n",
    "import numpy as np\n",
    "import statistics as stats   \n",
    "import pandas as pd\n",
    "def test_funcion(x):\n",
    "  return(np.sqrt(np.arctan(x)))\n",
    "    def integrar(x1,x2,func=test_funcion,n=100000):\n",
    "    X=np.linspace(x1,x2,1000)\n",
    "    y1=0\n",
    "    y2=max((func(X)))\n",
    "    c=y2\n",
    "    area=(x2-x1)*(y2-y1)\n",
    "    check=[]\n",
    "    xs=[]\n",
    "    ys=[]\n",
    "    sum=0\n",
    "    for i in range(n):\n",
    "       x=np.random.uniform(x1,x2)\n",
    "       xs.append(x)\n",
    "       y=np.random.uniform(y1,y2)\n",
    "       ys.append(y)\n",
    "       if abs(y)>abs(func(x)) or y<0:\n",
    "           check.append(0)\n",
    "       else:\n",
    "           check.append(1)\n",
    "           sum=sum+1\n",
    "   p=sum/n\n",
    "   return(cc,p,np.mean(check)*area,xs,ys,check)\n",
    "cc,p,I,x,y,c=integrar(0,1)\n",
    "_,_,_,x,y,c=integrar(0,1,n=500)\n",
    "df=pd.DataFrame()\n",
    "df['x']=x\n",
    "df['y']=y\n",
    "df['c']=c\n",
    "b=1\n",
    "a=0\n",
    "print('Evaluación de la integral I =',I)\n",
    "E=(p*cc)*(b-a)\n",
    "V=(I/100000)*(cc*(b-a)-I)\n",
    "print('Evaluación de E(theta) =',E)\n",
    "print('a) ',E, '=', I, '=> [E(theta) = I]')\n",
    "print('b)  V =',V)\n"
   ]
  }
 ],
 "metadata": {
  "kernelspec": {
   "display_name": "Python 3",
   "language": "python",
   "name": "python3"
  },
  "language_info": {
   "codemirror_mode": {
    "name": "ipython",
    "version": 3
   },
   "file_extension": ".py",
   "mimetype": "text/x-python",
   "name": "python",
   "nbconvert_exporter": "python",
   "pygments_lexer": "ipython3",
   "version": "3.7.3"
  }
 },
 "nbformat": 4,
 "nbformat_minor": 2
}
