{
 "cells": [
  {
   "cell_type": "markdown",
   "metadata": {},
   "source": [
    "# Ejercicio 14: \n",
    "\n",
    "##    Ejercicio 13, continuación. Nota para el profesor: ¿me podria guiar y describir algunas cosas que hacen falta asi como describir los errores si es que los tengo? \n",
    "\n",
    "## 1. Agregar dos columnas a la tabla anterior: Tamaño de la cola despues de $t$, Clientes en el sistema después de $t$.\n",
    "| Pkt No. |Tpll  |tps  |Tiempo de arribo|Inicio de servicio|Tamaño de la cola despues de t|Hora de salida|Clientes en el sistema después de t|Tiempo en fila |Tiempo en el sistema  |\n",
    "|:---------:|:-----:|:----:|:--------------:|:-------------------:|:----------------:|:---------------:|:-----------------:|:---------------:|:--------------:| \n",
    "|    1    |  2  | 12 |       2      |         2         |0|      14        |1|      0        |       12        |\n",
    "|    2    |  5  | 10 |       7      |         14        |1|      24        |2|      7        |       17        | \n",
    "|    3    |  1  | 16 |       8      |         24        |2|      40        |3|      16       |       32        |\n",
    "|    4    |  4  | 9  |       12     |         40        |3|      49        |4|      28       |       37        |\n",
    "|    5    |  1  | 10 |       13     |         49        |4|      59        |5|      36       |       46        | \n",
    "|    6    |  3  | 13 |       16     |         59        |4|      72        |5|      43       |       56        |\n",
    "|    7    |  3  | 17 |       19     |         72        |5|      89        |6|      53       |       70        | \n",
    "|    8    |  2  | 10 |       21     |         89        |6|      99        |7|      68       |       78        |\n",
    "|    9    |  4  | 8  |       25     |         99        |6|      107       |7|      74       |       82        |\n",
    "|   10    |  5  | 12 |       30     |         107       |6|      119       |7|      77       |       89        |"
   ]
  },
  {
   "cell_type": "markdown",
   "metadata": {},
   "source": [
    "##    2. Con la información de la tabla completa, determinar:$\\lambda$, $\\mu$, $L$ y $L_q$ \n"
   ]
  },
  {
   "cell_type": "markdown",
   "metadata": {},
   "source": [
    "$\\lambda:$ Número de llegadas por unidad de tiempo.\n",
    "\n",
    "$\\lambda=\\frac{10}{30}=\\frac{1}{3}=0.333333$\n",
    "\n",
    "$\\mu:$ Número de servicios por unidad de tiempo si el servidor está ocupado. \n",
    "\n",
    "$\\mu=\\frac{10}{119}=0.084033613$\n",
    "\n",
    "$L:$ Número medio de clientes en el sistema. \n",
    "\n",
    "$L:\\frac{1+2+3+4+5+5+6+7+7+7}{10}$\n",
    "\n",
    "$L_q:$ Número medio de clientes en la cola.\n",
    "\n",
    "$L_q :\\frac{0+1+2+3+4+4+5+6+6+6}{10}$\n",
    "\n",
    "\n",
    "\n",
    "\n"
   ]
  }
 ],
 "metadata": {
  "kernelspec": {
   "display_name": "Python 3",
   "language": "python",
   "name": "python3"
  },
  "language_info": {
   "codemirror_mode": {
    "name": "ipython",
    "version": 3
   },
   "file_extension": ".py",
   "mimetype": "text/x-python",
   "name": "python",
   "nbconvert_exporter": "python",
   "pygments_lexer": "ipython3",
   "version": "3.7.3"
  }
 },
 "nbformat": 4,
 "nbformat_minor": 2
}
