{
 "cells": [
  {
   "cell_type": "markdown",
   "metadata": {},
   "source": [
    "## Ejercicio: Simulación manual. \n",
    "\n",
    "###1. Completar la tabla."
   ]
  },
  {
   "cell_type": "markdown",
   "metadata": {},
   "source": [
    "| Pkt No. |Tpll  |tps  |Tiempo de arribo|Inicio de servicio|Hora de salida|Tiempo en fila |Tiempo en el sistema  |\n",
    "|:---------:|:-----:|:----:|:--------------:|:-------------------:|:----------------:|:---------------:|:-----------------:| \n",
    "|    1    |  2  | 12 |       2      |         2         |      14        |      0        |       12        |\n",
    "|    2    |  5  | 10 |       7      |         14        |      24        |      7        |       17        | \n",
    "|    3    |  1  | 16 |       8      |         24        |      40        |      16       |       32        |\n",
    "|    4    |  4  | 9  |       12     |         40        |      49        |      28       |       37        |\n",
    "|    5    |  1  | 10 |       13     |         49        |      59        |      36       |       46        | \n",
    "|    6    |  3  | 13 |       16     |         59        |      72        |      43       |       56        |\n",
    "|    7    |  3  | 17 |       19     |         72        |      89        |      53       |       70        | \n",
    "|    8    |  2  | 10 |       21     |         89        |      99        |      68       |       78        |\n",
    "|    9    |  4  | 8  |       25     |         99        |      107       |      74       |       82        |\n",
    "|   10    |  5  | 12 |       30     |         107       |      119       |      77       |       89        |"
   ]
  }
 ],
 "metadata": {
  "kernelspec": {
   "display_name": "Python 3",
   "language": "python",
   "name": "python3"
  },
  "language_info": {
   "codemirror_mode": {
    "name": "ipython",
    "version": 3
   },
   "file_extension": ".py",
   "mimetype": "text/x-python",
   "name": "python",
   "nbconvert_exporter": "python",
   "pygments_lexer": "ipython3",
   "version": "3.7.3"
  }
 },
 "nbformat": 4,
 "nbformat_minor": 2
}
