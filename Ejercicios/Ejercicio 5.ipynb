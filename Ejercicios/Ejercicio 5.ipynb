{
 "cells": [
  {
   "cell_type": "markdown",
   "metadata": {},
   "source": [
    "# Ejercicio 5: \n",
    "\n",
    "## Si se tiene, para cada punto aleatorio:\n",
    "## $X_i=1$ si cae dentro del circulo y\n",
    "## $X_i=0$ si cae fuera del circulo\n",
    "## $E[X_i]=\\frac{\\pi}{4}$ y $V[X_i]=\\frac{4\\pi-\\pi^2}{16}$\n",
    "## Si definimos la variable $Z_N =4\\frac{X_1 + X_2 + ... + X_N}{N}$\n",
    "\n",
    "##    a) Calcular  $E[Z_N]$ y $V[Z_N]$\n"
   ]
  },
  {
   "cell_type": "code",
   "execution_count": null,
   "metadata": {},
   "outputs": [],
   "source": [
    "import random \n",
    "print (\"Si se tiene, para cada punto aleatorio:\") \n",
    "print (\"X_i=1 si cae dentro del circulo y\") \n",
    "print (\"X_i=0 si cae fuera del circulo\") \n",
    "print (\"E[X_i] = pi/4 y V[X_i] = (pi/4)*(1 - pi/4)\") \n",
    "print (\"Si definimos la variable Zn = (x_1 + x_2 + ... + x_n)/N\") \n",
    "print (\"Ahora calcularemos E[Z_N] y V[Z_N]\") \n",
    "N = int(input(\"¿Cuantos dardos se lanzarán? \"))#Numero de dardos que se lanzan \n",
    "def p_Taylor(n): \n",
    "  x_i = 0 \n",
    "  for i in range(n): \n",
    "    x_1 = random.random() \n",
    "    y_1 = random.random() \n",
    "    z = ((x_1**2)+(y_1**2))**(1/2) \n",
    "    if z < 1: \n",
    "      x_i = x_i+1 \n",
    "  p = 4*(x_i/n) \n",
    "  return p \n",
    "Pp = p_Taylor(N) #E[Z_N] \n",
    "var = (16*Pp*(1-Pp))/N #var[Z_N] \n",
    "print (\"E[Z_N] = \",Pp,\" o bien, pi\") \n",
    "print (\"V[Z_N] = \",var,\" o bien, (4*pi-pi^2)/N\")\n"
   ]
  },
  {
   "cell_type": "markdown",
   "metadata": {},
   "source": [
    "##    b) ¿Cuál debe ser el valor de $N$ para que el error sea de 0.01?\n"
   ]
  },
  {
   "cell_type": "code",
   "execution_count": null,
   "metadata": {},
   "outputs": [],
   "source": [
    "import random \n",
    "import math \n",
    "print (\"Si se tiene, para cada punto aleatorio: \")\n",
    "print (\"X_i = 1 si cae dentro del circulo y\") \n",
    "print (\"X_i = 0 si cae fuera del circulo\") \n",
    "print (\"E[X_i] = pi/4 y V[X_i] = (pi/4)*(1 - pi/4)\") \n",
    "print (\"Si definimos la variable Zn = (x_1 + x_2 + ... + x_n)/N\") \n",
    "print (\"Ahora calcularemos E[Z_N] y V[Z_N]\") \n",
    "N = float(input(\"¿Cual será el error? (ej. 0.01): \")) #Numero de dardos que se lanzan \n",
    "def error(n): \n",
    "  error = 10 \n",
    "  m = 0 \n",
    "  Nn = 1 \n",
    "  while error>n: \n",
    "    x_1 = random.random() \n",
    "    y_1 = random.random() \n",
    "    z = ((x_1**2)+(y_1**2))**(1/2) \n",
    "    if z < 1: \n",
    "      m = m+1 \n",
    "    pi = 4*(m/Nn) \n",
    "    error=(((pi-math.pi)**2)**(1/2))/math.pi \n",
    "    Nn=Nn+1 \n",
    "  return Nn \n",
    "print (\"El numero de iteraciones necesarias para que el error sea de\",N,\"es = \",error(N)) \n"
   ]
  }
 ],
 "metadata": {
  "kernelspec": {
   "display_name": "Python 3",
   "language": "python",
   "name": "python3"
  },
  "language_info": {
   "codemirror_mode": {
    "name": "ipython",
    "version": 3
   },
   "file_extension": ".py",
   "mimetype": "text/x-python",
   "name": "python",
   "nbconvert_exporter": "python",
   "pygments_lexer": "ipython3",
   "version": "3.7.3"
  }
 },
 "nbformat": 4,
 "nbformat_minor": 2
}
