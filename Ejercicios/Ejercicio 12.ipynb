{
 "cells": [
  {
   "cell_type": "markdown",
   "metadata": {},
   "source": [
    "# Ejercicio 12: \n",
    "##  La función exponencial tiene una propiedad muy importante, amnesia o falta de memoria: \n",
    "##  $P(t>T+S|t>S) - P(t>T)$ \n",
    "##  Demostrar la propiedad anterior:\n"
   ]
  },
  {
   "cell_type": "markdown",
   "metadata": {},
   "source": [
    "$P(t>T+S|t>S) - P(t>T) = \\frac{P(t>T+S \\cap t>S)}{P(t>T)}$\n",
    "$P(t>T+S|t>S) - P(t>T) = \\frac{P(t>T+S)}{P(t>T)}$\n",
    "$P(t>T+S|t>S) - P(t>T) = \\frac{e^{-\\lambda(x+y)}}{e^{-\\lambda xy}}$\n",
    "##  Demostrar la propiedad anterior:\n"
   ]
  }
 ],
 "metadata": {
  "kernelspec": {
   "display_name": "Python 3",
   "language": "python",
   "name": "python3"
  },
  "language_info": {
   "codemirror_mode": {
    "name": "ipython",
    "version": 3
   },
   "file_extension": ".py",
   "mimetype": "text/x-python",
   "name": "python",
   "nbconvert_exporter": "python",
   "pygments_lexer": "ipython3",
   "version": "3.7.3"
  }
 },
 "nbformat": 4,
 "nbformat_minor": 2
}
