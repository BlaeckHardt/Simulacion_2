{
 "cells": [
  {
   "cell_type": "markdown",
   "metadata": {},
   "source": [
    "# Ejercicio 12: \n",
    "##  La función exponencial tiene una propiedad muy importante, amnesia o falta de memoria: \n",
    "##  $P(t>T+S\\|t>S) = P(t>T)$ \n"
   ]
  },
  {
   "cell_type": "code",
   "execution_count": null,
   "metadata": {},
   "outputs": [],
   "source": [
    "import random \n",
    "import matplotlib.pyplot as plt \n",
    "import numpy as np \n",
    "x = np.linspace(0, 1, 100)\n",
    "y = np.sqrt(1 - x**2) # Ecuación del círculo en el primer cuadrante\n", 
    "N = int(input(\"¿Cuantos dardos se lanzarán? \")) #Numero de dardos que se lanzan\n",
    "m = 0 #numero de dardos que hay dentro de la circunferencia\n",
    "count = 0 \n",
    "fig = plt.figure(1, figsize = (10, 10)) # Aquí fijamos el formato de la gráfica para que sea cuadrada.\n",
    "plt.plot(x, y, color = 'red', markersize = 1) \n",
    "while count < N:\n",
    "  x_1 = random.random()\n",
    "  y_1 = random.random()\n",
    "  plt.scatter(x_1, y_1, s = 20, c = 'blue') #Punto aleatorio que se graficará\n",
    "  z = ((x_1**2)+(y_1**2))**(1/2) #operacion para determinar si esta dentro o fuera de la circunferencia\n",
    "  if z < 1:\n",
    "    m = m+1 #el dardo está dentro del circulo\n",
    "  count = count+1 \n",
    "plt.title(\"Estimación de $\\pi$ \")\n",
    "plt.xlabel('X')\n",
    "plt.ylabel('Y')\n",
    "plt.grid()\n",
    "plt.show()\n",
    "pi = 4*(m/N) #valor de pi\n",
    "print (\"el valor de pi es: \",pi)\n",
    "print (\"\")\n"
   ]
  }
 ],
 "metadata": {
  "kernelspec": {
   "display_name": "Python 3",
   "language": "python",
   "name": "python3"
  },
  "language_info": {
   "codemirror_mode": {
    "name": "ipython",
    "version": 3
   },
   "file_extension": ".py",
   "mimetype": "text/x-python",
   "name": "python",
   "nbconvert_exporter": "python",
   "pygments_lexer": "ipython3",
   "version": "3.7.3"
  }
 },
 "nbformat": 4,
 "nbformat_minor": 2
}
