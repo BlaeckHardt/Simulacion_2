{
 "cells": [
  {
   "cell_type": "markdown",
   "metadata": {},
   "source": [
    "# Tarea 4 - Simulación de una distribución normal: \n",
    "## Elaborar un código en Python para generar una distribución normal por el método de las doce uniformes (usar la función random( )). Hacer el histograma y comparar con el generado por la función gauss( ).\n",
    "\n",
    "Nota: este es un ejercicio de las primeras clases por lo que tendrá algunas cosas agregadas e improvisadas, el codigo no se ha modificado desde esas fechas\n"
   ]
  },
  {
   "cell_type": "code",
   "execution_count": null,
   "metadata": {},
   "outputs": [],
   "source": [
    "import matplotlib.pyplot as plt \n",
    "from math import * \n",
    "import random \n",
    "w = int(input('Inserte cuantos numeros aleatorios quiere obtener para tener una buena aproximacion jeje: '))#no recuerdo para que servia por lo que este numero afecta en algo, pero no se que es :v \n",
    "mu = int(input('Inserte mu jeje: ')) \n",
    "sig = int(input('Inserte sigma jeje: ')) \n",
    "datos = int(input('Inserte numero de datos que necesita para crear la distribucion normal muajajajaja: ')) \n",
    "x = [0,0,0,0,0,0,0,0,0,0] #esto nos sirve para saber cuantos datos tenemos en cada intervalo \n",
    "xx = [] \n",
    "y = [] \n",
    "gdd = [mu-4*sig,mu-3*sig,mu-2*sig,mu-sig,mu-1,mu,mu+sig,mu+2*sig,mu+3*sig,mu+4*sig] \n",
    "uxiono = 0 \n",
    "while uxiono < datos: \n",
    "  c = 0 \n",
    "  z = 1 \n",
    "  while z <= w: \n",
    "    a = random.random() \n",
    "    c = c+a \n",
    "    z = z+1 \n",
    "  equis = mu+sig*(c-6) \n",
    "  xx.append(equis) \n",
    "  y.append(equis) \n",
    "  if equis <= (mu-3*sig): \n",
    "    x[1] = x[1]+1 \n",
    "  elif equis <= (mu-2*sig): \n",
    "    x[2] = x[2]+1 \n",
    "  elif equis <= (mu-sig): \n",
    "    x[3] = x[3]+1 \n",
    "  elif equis < mu: \n",
    "    x[4] = x[4]+1 \n",
    "  elif equis < (mu+sig): \n",
    "    x[5] = x[5]+1 \n",
    "  elif equis < (mu+2*sig): \n",
    "    x[6] = x[6]+1 \n",
    "  elif equis < (mu+3*sig): \n",
    "    x[7] = x[7]+1 \n",
    "  elif equis < (mu+4*sig): \n",
    "    x[8] = x[8]+1 \n",
    "  uxiono=uxiono+1 \n",
    "print ('El',(x[1]*100)/datos,'% de los datos son menores que mu-3sigma') \n",
    "print ('El',(x[2]*100)/datos,'% de los datos son menores que mu-2sigma') \n",
    "print ('El',(x[3]*100)/datos,'% de los datos son menores que mu-sigma') \n",
    "print ('El',(x[4]*100)/datos,'% de los datos son menores que mu') \n",
    "print ('El',(x[5]*100)/datos,'% de los datos son mayores que mu') \n",
    "print ('El',(x[6]*100)/datos,'% de los datos son mayores que mu+2sigma') \n",
    "print ('El',(x[7]*100)/datos,'% de los datos son mayores que mu+3sigma') \n",
    "print ('El',(x[8]*100)/datos,'% de los datos son mayores que mu+sigma') \n",
    "plt.title('grafica de dispersion de datos, creo :v') \n",
    "plt.xlabel('t (s)') \n",
    "plt.ylabel('y (m)') \n",
    "plt.plot(gdd,x,'m.') \n",
    "plt.show() \n"
   ]
  },
  {
   "cell_type": "markdown",
   "metadata": {},
   "source": [
    "## Codigo usado en la presentación, las comparativas son mas que claras."
   ]
  },
  {
   "cell_type": "code",
   "execution_count": null,
   "metadata": {},
   "outputs": [],
   "source": [
    "#plt.figure(figsize = (8, 4))\n",
    "print()"
   ]
  }
 ],
 "metadata": {
  "kernelspec": {
   "display_name": "Python 3",
   "language": "python",
   "name": "python3"
  },
  "language_info": {
   "codemirror_mode": {
    "name": "ipython",
    "version": 3
   },
   "file_extension": ".py",
   "mimetype": "text/x-python",
   "name": "python",
   "nbconvert_exporter": "python",
   "pygments_lexer": "ipython3",
   "version": "3.7.3"
  }
 },
 "nbformat": 4,
 "nbformat_minor": 2
}
