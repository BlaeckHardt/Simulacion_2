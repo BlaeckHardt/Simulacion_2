{
 "cells": [
  {
   "cell_type": "markdown",
   "metadata": {},
   "source": [
    "# Ejercicio 4: \n",
    "\n",
    "## Si se tiene, para cada punto aleatorio:\n",
    "## $X_i=1$ si cae dentro del circulo y\n",
    "## $X_i=0$ si cae fuera del circulo\n",
    "\n",
    "### a) Calcular $E[X_i]$ y $V[X_i]$\n",
    "\n",
    "\n"
   ]
  },
  {
   "cell_type": "markdown",
   "metadata": {},
   "source": [
    "##Para el experimento de simulación, definimos $Z_N = \\frac{X_1 + X_2 + ... + X_N}{N}$"
   ]
  },
  {
   "cell_type": "code",
   "execution_count": null,
   "metadata": {},
   "outputs": [],
   "source": [
    "import random\n",
    "print (\"Si se tiene, para cada punto aleatorio:\")\n",
    "print (\"X_i = 1 si cae dentro del circulo y\")\n",
    "print (\"X_i = 0 si cae fuera del circulo\")\n",
    "print (\"Ahora estimaremos la E[X_i] y V[X_i]\")\n",
    "N = int(input(\"¿Cuantos dardos se lanzarán? \")) #Numero de dardos que se lanzan \n",
    "def p_Taylor(n):\n",
    "  x_i = 0 \n",
    "  for i in range(n): \n",
    "    x_1 = random.random() \n",
    "    y_1 = random.random() \n",
    "    z = ((x_1**2)+(y_1**2))**(1/2) \n",
    "    if z < 1: \n",
    "      x_i = x_i+1 \n",
    "  p = (x_i/n) \n",
    "  return p \n",
    "Pp = p_Taylor(N) #E[X_i] \n",
    "var = Pp*(1-Pp) #var[X_i] \n",
    "print (\"E[X_i] = \",Pp,\" o bien, pi/4\") \n",
    "print (\"V[X_i] = \",var,\" o bien, (4*pi-pi^2)/16\") \n"
   ]
  }
 ],
 "metadata": {
  "kernelspec": {
   "display_name": "Python 3",
   "language": "python",
   "name": "python3"
  },
  "language_info": {
   "codemirror_mode": {
    "name": "ipython",
    "version": 3
   },
   "file_extension": ".py",
   "mimetype": "text/x-python",
   "name": "python",
   "nbconvert_exporter": "python",
   "pygments_lexer": "ipython3",
   "version": "3.7.3"
  }
 },
 "nbformat": 4,
 "nbformat_minor": 2
}
