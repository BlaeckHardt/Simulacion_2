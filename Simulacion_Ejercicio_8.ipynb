{
 "cells": [
  {
   "cell_type": "markdown",
   "metadata": {},
   "source": [
    "# Ejercicio 8: \n",
    "## Estimar las siguientes integrales:\n",
    "### \n",
    "### 1. $\\int_0^1 (1 - x^2)^{\\frac{3}{2}} dx$\n"
   ]
  },
  {
   "cell_type": "code",
   "execution_count": null,
   "metadata": {},
   "outputs": [],
   "source": [
    "def riemann(f, a, b, n): \n",
    "  # f es la función \n", 
    "  # a y b son los limites del eje x para graficar la funcion f \n",
    "  # n es el numero de rectangulos que calcularemos \n",
    "  delta_x = (b-a)/n \n",
    "  i = 0 \n",
    "  suma = 0 \n",
    "  a_1 = a \n",
    "  while a_1 < b: \n",
    "    x_i = a+i*delta_x \n",
    "    suma = suma+f(x_i)*delta_x \n",
    "    a_1 = a_1+delta_x \n",
    "    i = i+1 \n",
    "  return suma \n",
    "def f(x): \n",
    "  return (1-(x**2))**(3/2) \n",
    "print (\"El valor de la integral es: \",riemann(f, 0, 1, 200000)) \n"
   ]
  },
  {
   "cell_type": "markdown",
   "metadata": {},
   "source": [
    "### \n",
    "###    2. $\\int_{-2}^2 \\exp (x + x^2) dx$"
   ]
  },
  {
   "cell_type": "code",
   "execution_count": null,
   "metadata": {},
   "outputs": [],
   "source": [
    "import math \n",
    "def riemann(f, a, b, n): \n",
    "  # f es la función \n", 
    "  # a y b son los limites del eje x para graficar la funcion f \n",
    "  # n es el numero de rectangulos que calcularemos \n",
    "  delta_x = (b-a)/n \n",
    "  i = 0 \n",
    "  suma = 0 \n",
    "  a_1 = a \n",
    "  while a_1 < b: \n",
    "    x_i = a+i*delta_x \n",
    "    suma = suma+f(x_i)*delta_x \n",
    "    a_1 = a_1+delta_x \n",
    "    i=i+1 \n",
    "  return suma \n",
    "def f(x): \n",
    "  return math.exp(x+(x**2)) \n",
    "print (\"El valor de la integral es: \",riemann(f, -2, 2, 2000000)) \n"
   ]
  }
 ],
 "metadata": {
  "kernelspec": {
   "display_name": "Python 3",
   "language": "python",
   "name": "python3"
  },
  "language_info": {
   "codemirror_mode": {
    "name": "ipython",
    "version": 3
   },
   "file_extension": ".py",
   "mimetype": "text/x-python",
   "name": "python",
   "nbconvert_exporter": "python",
   "pygments_lexer": "ipython3",
   "version": "3.7.3"
  }
 },
 "nbformat": 4,
 "nbformat_minor": 2
}
