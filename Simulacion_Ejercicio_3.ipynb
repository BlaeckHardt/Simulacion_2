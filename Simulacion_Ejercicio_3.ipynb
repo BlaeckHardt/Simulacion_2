{
 "cells": [
  {
   "cell_type": "markdown",
   "metadata": {},
   "source": [
    "# Ejercicio 3: \n",
    "##    Graficar las salidas obtenidas en la Tarea 1\n"
   ]
  },
  {
   "cell_type": "code",
   "execution_count": null,
   "metadata": {},
   "outputs": [],
   "source": [
    "import random\n",
    "import matplotlib.pyplot as plt\n",
    "N = int(input(\"¿Cuantos dardos se lanzarán? \"))#Numero de dardos que se lanzan\n",
    "def pi_Taylor(n):\n",
    "  L = []\n",
    "  m = 0\n",
    "  for i in range(n):\n",
    "    x_1 = random.random()\n",
    "    y_1 = random.random()\n",
    "    z = ((x_1**2)+(y_1**2))**(1/2)\n",
    "    if z < 1:\n",
    "        m = m+1\n",
    "    pi = 4*(m/(i+1))\n",
    "    L.append(pi) \n",
    "  plt.plot(L, color = \"red\", markersize=1)\n",
    "  plt.xlabel(\"Iteraciones\")\n",
    "  plt.ylabel(\"Estimación\")\n",
    "  plt.grid()\n",
    "  plt.show()\n",
    "pi_Taylor(N)\n",
    "f = str(input(\"¿Quieres ver tablas comparativas? Y/N \"))\n",
    "if f = = 'Y':\n",
    "  g = int(input(\"¿Cuantas? \"))\n",
    "  h = 0\n",
    "  while h < g:\n",
    "    pi_Taylor(N) \n",
    "    h = h+1\n",
    "else:\n",
    "  print (\"ok\")\n"
   ]
  },
  {
   "cell_type": "markdown",
   "metadata": {},
   "source": [
    "##    b) Usar la función random( ) para simular 1000 volados.\n"
   ]
  },
  {
   "cell_type": "code",
   "execution_count": null,
   "metadata": {},
   "outputs": [],
   "source": [
    "import random",
    "x = random.random() \n",
    "b = str(input(\"Escoge, ¿aguila o sol? \"))\n",
    "print(\"\")\n",
    "count = 0 \n",
    "sol = 0 \n",
    "aguila = 0 \n",
    "while count < 1000:\n",
    "  y = random.random()\n",
    "  if y < 0.5:\n",
    "    sol = sol+1 \n",
    "  else:\n",
    "    aguila = aguila+1 \n",
    "  count = count+1 \n",
    "if sol < aguila:\n",
    "  if b = = 'aguila':\n",
    "    print (\"Aguila, ¡Ganaste!\")\n",
    "  else:\n",
    "    print (\"Aguila, ¡Perdiste! xD\")\n",
    "else:\n",
    "  if b = = 'sol':\n",
    "    print (\"Sol, ¡Ganaste!\")\n",
    "  else:\n",
    "    print (\"Sol, ¡Perdiste! xD\")\n"
   ]
  },
  {
   "cell_type": "markdown",
   "metadata": {},
   "source": [
    "##    c) Determinar de b) la probabilidad de que ocurra \"sol\" en un volado.\n"
   ]
  },
  {
   "cell_type": "code",
   "execution_count": null,
   "metadata": {},
   "outputs": [],
   "source": [
    "import random",
    "x = random.random() \n",
    "b = str(input(\"Escoge, ¿aguila o sol? \"))\n",
    "print(\"\")\n",
    "count = 0 \n",
    "sol = 0 \n",
    "aguila = 0 \n",
    "while count < 1000:\n",
    "  y = random.random()\n",
    "  if y < 0.5:\n",
    "    sol = sol+1 \n",
    "  else:\n",
    "    aguila = aguila+1 \n",
    "  count = count+1 \n",
    "PA = aguila/count \n",
    "PS = sol/count \n",
    "print(\"\")\n",
    "print(\"La probabilidad de obtener aguila era de: \",PA)\n",
    "print(\"La probabilidad de obtener sol era de: \",PS)\n",
    "print(\"\")\n"
   ]
  }
 ],
 "metadata": {
  "kernelspec": {
   "display_name": "Python 3",
   "language": "python",
   "name": "python3"
  },
  "language_info": {
   "codemirror_mode": {
    "name": "ipython",
    "version": 3
   },
   "file_extension": ".py",
   "mimetype": "text/x-python",
   "name": "python",
   "nbconvert_exporter": "python",
   "pygments_lexer": "ipython3",
   "version": "3.7.3"
  }
 },
 "nbformat": 4,
 "nbformat_minor": 2
}
