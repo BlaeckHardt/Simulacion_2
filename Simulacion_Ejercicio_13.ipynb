{
 "cells": [
  {
   "cell_type": "markdown",
   "metadata": {},
   "source": [
    "# Ejercicio 12: \n",
    "\n",
    "##    Ejercicio 12, continuación. \n",
    "\n",
    "## 1. Agregar dos columnas a la tabla anterior: Tamaño de la cola despues de $t$ Clientes en el sistema después de $t$.\n",
    "\n",
    "##    2. on la información de la tabla completa, determinar:$\lambda, \mu, L y L_q$ \n"
   ]
  },
  {
   "cell_type": "code",
   "execution_count": null,
   "metadata": {},
   "outputs": [],
   "source": [
    "import random\n",
    "import matplotlib.pyplot as plt\n",
    "N = int(input(\"¿Cuantos dardos se lanzarán? \"))#Numero de dardos que se lanzan\n",
    "def pi_Taylor(n):\n",
    "  L = []\n",
    "  m = 0\n",
    "  for i in range(n):\n",
    "    x_1 = random.random()\n",
    "    y_1 = random.random()\n",
    "    z = ((x_1**2)+(y_1**2))**(1/2)\n",
    "    if z < 1:\n",
    "        m = m+1\n",
    "    pi = 4*(m/(i+1))\n",
    "    L.append(pi) \n",
    "  plt.plot(L, color = \"red\", markersize=1)\n",
    "  plt.xlabel(\"Iteraciones\")\n",
    "  plt.ylabel(\"Estimación\")\n",
    "  plt.grid()\n",
    "  plt.show()\n",
    "pi_Taylor(N)\n",
    "f = str(input(\"¿Quieres ver tablas comparativas? Y/N \"))\n",
    "if f = = 'Y':\n",
    "  g = int(input(\"¿Cuantas? \"))\n",
    "  h = 0\n",
    "  while h < g:\n",
    "    pi_Taylor(N) \n",
    "    h = h+1\n",
    "else:\n",
    "  print (\"ok\")\n"
   ]
  }
 ],
 "metadata": {
  "kernelspec": {
   "display_name": "Python 3",
   "language": "python",
   "name": "python3"
  },
  "language_info": {
   "codemirror_mode": {
    "name": "ipython",
    "version": 3
   },
   "file_extension": ".py",
   "mimetype": "text/x-python",
   "name": "python",
   "nbconvert_exporter": "python",
   "pygments_lexer": "ipython3",
   "version": "3.7.3"
  }
 },
 "nbformat": 4,
 "nbformat_minor": 2
}
