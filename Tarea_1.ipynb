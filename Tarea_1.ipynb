{
 "cells": [
  {
   "cell_type": "markdown",
   "metadata": {},
   "source": [
    "# Tarea 1: \n",
    "##    Estimar el valor de pi usando la función random\n"
   ]
  },
  {
   "cell_type": "code",
   "execution_count": null,
   "metadata": {},
   "outputs": [],
   "source": [
    "import matplotlib.pyplot as plt\n",
    "import numpy as np\n",
    "import random\n",
    "x = np.linspace(0, 1, 100)\n",
    "y = np.sqrt(1 - x**2) # Ecuación del círculo en el primer cuadrante\n", 
    "N = int(input(\"¿Cuantos dardos se lanzarán? \")) #Numero de dardos que se lanzan\n",
    "m = 0 #numero de darods que hay dentro de la circunferencia\n",
    "count = 0\n",
    "fig = plt.figure(1, figsize = (10, 10)) # Aquí fijamos el formato de la gráfica para que sea cuadrada.\n",
    "plt.plot(x, y, color = 'red', markersize = 1) \n",
    
   ]
  }
 ],
 "metadata": {
  "kernelspec": {
   "display_name": "Python 3",
   "language": "python",
   "name": "python3"
  },
  "language_info": {
   "codemirror_mode": {
    "name": "ipython",
    "version": 3
   },
   "file_extension": ".py",
   "mimetype": "text/x-python",
   "name": "python",
   "nbconvert_exporter": "python",
   "pygments_lexer": "ipython3",
   "version": "3.7.3"
  }
 },
 "nbformat": 4,
 "nbformat_minor": 2
}
