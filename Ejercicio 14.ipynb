{
 "cells": [
  {
   "cell_type": "markdown",
   "metadata": {},
   "source": [
    "# Ejercicio 14: \n",
    "\n",
    "##    Ejercicio 13, continuación. \n",
    "\n",
    "## 1. Agregar dos columnas a la tabla anterior: Tamaño de la cola despues de $t$, Clientes en el sistema después de $t$.\n",
    "| Pkt No. |Tpll  |tps  |Tiempo de arribo|Inicio de servicio|Hora de salida|Tiempo en fila |Tiempo en el sistema  |\n",
    "|---------|-----|----|--------------|-------------------|----------------|---------------|-----------------| \n",
    "|    1    |  2  | 12 |       2      |         2         |      14        |      0        |       12        |\n",
    "|    2    |  5  | 10 |       7      |         14        |      24        |      7        |       17        | \n",
    "|    3    |  1  | 16 |       8      |         24        |      40        |      16       |       32        |\n",
    "|    4    |  4  | 9  |       12     |         40        |      49        |      28       |       37        |\n",
    "|    5    |  1  | 10 |       13     |         49        |      59        |      36       |       46        | \n",
    "|    6    |  3  | 13 |       16     |         59        |      72        |      43       |       56        |\n",
    "|    7    |  3  | 17 |       19     |         72        |      89        |      53       |       70        | \n",
    "|    8    |  2  | 10 |       21     |         89        |      99        |      68       |       78        |\n",
    "|    9    |  4  | 8  |       25     |         99        |      107       |      74       |       82        |\n",
    "|   10    |  5  | 12 |       30     |         107       |      119       |      77       |       89        |"
   ]
  },
  {
   "cell_type": "code",
   "execution_count": null,
   "metadata": {},
   "outputs": [],
   "source": [
    "import random\n",
    "import matplotlib.pyplot as plt\n",
    "N = int(input(\"¿Cuantos dardos se lanzarán? \"))#Numero de dardos que se lanzan\n",
    "def pi_Taylor(n):\n",
    "  L = []\n",
    "  m = 0\n",
    "  for i in range(n):\n",
    "    x_1 = random.random()\n",
    "    y_1 = random.random()\n",
    "    z = ((x_1**2)+(y_1**2))**(1/2)\n",
    "    if z < 1:\n",
    "        m = m+1\n",
    "    pi = 4*(m/(i+1))\n",
    "    L.append(pi) \n",
    "  plt.plot(L, color = \"red\", markersize=1)\n",
    "  plt.xlabel(\"Iteraciones\")\n",
    "  plt.ylabel(\"Estimación\")\n",
    "  plt.grid()\n",
    "  plt.show()\n",
    "pi_Taylor(N)\n",
    "f = str(input(\"¿Quieres ver tablas comparativas? Y/N \"))\n",
    "if f = = 'Y':\n",
    "  g = int(input(\"¿Cuantas? \"))\n",
    "  h = 0\n",
    "  while h < g:\n",
    "    pi_Taylor(N) \n",
    "    h = h+1\n",
    "else:\n",
    "  print (\"ok\")\n"
   ]
  },
  {
   "cell_type": "markdown",
   "metadata": {},
   "source": [
    "##    2. Con la información de la tabla completa, determinar:$\\lambda$, $\\mu$, $L$ y $L_q$ \n"
   ]
  },
  {
   "cell_type": "code",
   "execution_count": null,
   "metadata": {},
   "outputs": [],
   "source": [
    "import random\n",
    "import matplotlib.pyplot as plt\n",
    "N = int(input(\"¿Cuantos dardos se lanzarán? \"))#Numero de dardos que se lanzan\n",
    "def pi_Taylor(n):\n",
    "  L = []\n",
    "  m = 0\n",
    "  for i in range(n):\n",
    "    x_1 = random.random()\n",
    "    y_1 = random.random()\n",
    "    z = ((x_1**2)+(y_1**2))**(1/2)\n",
    "    if z < 1:\n",
    "        m = m+1\n",
    "    pi = 4*(m/(i+1))\n",
    "    L.append(pi) \n",
    "  plt.plot(L, color = \"red\", markersize=1)\n",
    "  plt.xlabel(\"Iteraciones\")\n",
    "  plt.ylabel(\"Estimación\")\n",
    "  plt.grid()\n",
    "  plt.show()\n",
    "pi_Taylor(N)\n",
    "f = str(input(\"¿Quieres ver tablas comparativas? Y/N \"))\n",
    "if f = = 'Y':\n",
    "  g = int(input(\"¿Cuantas? \"))\n",
    "  h = 0\n",
    "  while h < g:\n",
    "    pi_Taylor(N) \n",
    "    h = h+1\n",
    "else:\n",
    "  print (\"ok\")\n"
   ]
  }
 ],
 "metadata": {
  "kernelspec": {
   "display_name": "Python 3",
   "language": "python",
   "name": "python3"
  },
  "language_info": {
   "codemirror_mode": {
    "name": "ipython",
    "version": 3
   },
   "file_extension": ".py",
   "mimetype": "text/x-python",
   "name": "python",
   "nbconvert_exporter": "python",
   "pygments_lexer": "ipython3",
   "version": "3.7.3"
  }
 },
 "nbformat": 4,
 "nbformat_minor": 2
}
