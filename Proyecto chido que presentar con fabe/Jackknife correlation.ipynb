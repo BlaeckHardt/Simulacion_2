{
 "cells": [
  {
   "cell_type": "markdown",
   "metadata": {},
   "source": [
    "# Jackknife correlation: \n",
    "###En algunas ocasiones se presenta dificultad para encontrar estimadores de un parámetro $\\theta$ que posean propiedades deseables como insesgamiento y precisión; además, cuando se dispone de un estimador sesgado, generalmente no se dispone de metodología para la estimación del sesgo. Otras veces, se dispone de un estimador insesgado, pero no se conoce una expresión cerrada para su varianza o para un estimador de la misma, lo cual obliga a realizar aproximaciones de distinta naturaleza, las cuales no producen los resultados más deseables. \n",
    "#Descripción del método: \n",
    "###Descripción del método: \n",
    "#Ejemplo: \n",
    "###Un equipo de investigadores quiere estudiar si existe correlación en la presencia de dos sustancias (A y B) en el agua de los ríos. Para ello han realizado una serie de mediciones en las que se cuantifica la concentración de las dos sustancias en 10 muestras independientes de agua. Se sospecha que el instrumento de lectura sufre alguna avería que provoca que algunas lecturas se disparen, por esta razón se quiere emplear un método de correlación robusto. El objetivo de este ejemplo es ilustrar el método de Jackknife, por lo que se asume que se cumplen las condiciones para la correlación de Pearson. \n",
    "#Datos: \n"
   ]
  },
  {
   "cell_type": "code",
   "execution_count": null,
   "metadata": {},
   "outputs": [],
   "source": [
    "# Datos simulados de dos variables A y B\n",
    "a = np.array([12,9,6,7,2,5,4,0,1,8])\n",
    "b = np.array([3,5,1,9,5,3,7,2,10,5])\n",
    "\n",
    "# Se introduce un outlier\n",
    "a[5] = 20\n",
    "b[5] = 16\n",
    "# Gráfico\n",
    "# ==============================================================================\n",
    "fig, ax = plt.subplots(1, 1, figsize=(6,4))\n",
    "ax.plot(a, label='A')\n",
    "ax.plot(b, label='B')\n",
    "ax.set_xlabel('ID muestra')\n",
    "ax.set_ylabel('Concentración')\n",
    "ax.set_title('Concentración sustancias A y B en las muestras')\n",
    "x.legend();\n"
   ]
  },
  {
   "cell_type": "markdown",
   "metadata": {},
   "source": [
    "##    b) Simular 5 sorteos con sustitución.\n"
   ]
  },
  {
   "cell_type": "code",
   "execution_count": null,
   "metadata": {},
   "outputs": [],
   "source": [
    "import random\n",
    "print(\"ok, ahora deberás adivinar que colores saldrán xd\")\n",
    "lis=[]\n",
    "print(\"\")\n",
    "print(\"   Blanco (Bl)\")\n",
    "print(\"   Negro (Ne)\")\n",
    "print(\"   Rojo (Ro)\")\n",
    "print(\"   Azul (Az)\")\n",
    "print(\"   Verde (Ve)\")\n",
    "print(\"\")\n",
    "print (\"ok, tendrás que escribir que colores saldran y en que orden, por ejemplo, rojo, rojo, azul, blanco, negro (Ro, Ro, Az, Bl, Ne), capicci? Unicamente 5\")\n",
    "l = 0\n",
    "while l < 5:\n",
    "  f = str(input(\">> \"))\n",
    "  lis.append(f)\n",
    "  l = l+1\n",
    "m = 0\n",
    "reptar = 0\n",
    "while m < 5:\n",
    "  t = random.random()\n",
    "  if t < 0.2:\n",
    "    if lis[m] = = 'Bl': #Blanco\n",
    "      print (\"Blanco, ¡Ganaste!\")\n",
    "      reptar = reptar+1\n",
    "    else:\n",
    "      print (\"Blanco, ¡Perdiste! xD\")\n",
    "  elif t > 0.2 and t < 0.4:\n",
    "    if lis[m] = = 'Ne': #Negro\n",
    "      print (\"Negro, ¡Ganaste!\")\n",
    "      reptar = reptar+1\n",
    "    else:\n",
    "      print (\"Negro, ¡Perdiste! xD\")\n",
    "  elif t > 0.4 and t < 0.6:\n",
    "    if lis[m] = = 'Ro': #Rojo\n",
    "      print (\"Rojo, ¡Ganaste!\")\n",
    "      reptar = reptar+1\n",
    "    else:\n",
    "      print (\"Rojo, ¡Perdiste! xD\")\n",
    "  elif t > 0.6 and t < 0.8:\n",
    "    if lis[m] = = 'Az': #Azul\n",
    "      print (\"Azul, ¡Ganaste!\")\n",
    "      reptar = reptar+1\n",
    "    else:\n",
    "      print (\"Azul, ¡Perdiste! xD\")\n",
    "  else:\n",
    "    if lis[m] = = 'Ve': #Verde\n",
    "      print (\"Verde, ¡Ganaste!\")\n",
    "      reptar = reptar+1\n",
    "    else:\n",
    "      print (\"Verde, ¡Perdiste! xD\")\n",
    "  m = m+1\n",
    "print(\"\")\n",
    "print (\"Veamos cuantos adivinaste xd\")\n",
    "print(\"\")\n",
    "print (\"Adivinaste: \",reptar,\" Nada mal :y\")\n",
    "print(\"\")\n"
   ]
  }
 ],
 "metadata": {
  "kernelspec": {
   "display_name": "Python 3",
   "language": "python",
   "name": "python3"
  },
  "language_info": {
   "codemirror_mode": {
    "name": "ipython",
    "version": 3
   },
   "file_extension": ".py",
   "mimetype": "text/x-python",
   "name": "python",
   "nbconvert_exporter": "python",
   "pygments_lexer": "ipython3",
   "version": "3.7.3"
  }
 },
 "nbformat": 4,
 "nbformat_minor": 2
}
