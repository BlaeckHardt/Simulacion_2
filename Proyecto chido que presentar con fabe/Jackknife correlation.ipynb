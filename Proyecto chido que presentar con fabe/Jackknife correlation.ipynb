{
 "cells": [
  {
   "cell_type": "markdown",
   "metadata": {},
   "source": [
    "# Jackknife correlation: \n",
    "###En algunas ocasiones se presenta dificultad para encontrar estimadores de un parámetro $\\theta$ que posean propiedades deseables como insesgamiento y precisión; además, cuando se dispone de un estimador sesgado, generalmente no se dispone de metodología para la estimación del sesgo. Otras veces, se dispone de un estimador insesgado, pero no se conoce una expresión cerrada para su varianza o para un estimador de la misma, lo cual obliga a realizar aproximaciones de distinta naturaleza, las cuales no producen los resultados más deseables. \n",
    "#Descripción del método: \n",
    "###Descripción del método: \n",
    "#Ejemplo: \n",
    "###Un equipo de investigadores quiere estudiar si existe correlación en la presencia de dos sustancias (A y B) en el agua de los ríos. Para ello han realizado una serie de mediciones en las que se cuantifica la concentración de las dos sustancias en 10 muestras independientes de agua. Se sospecha que el instrumento de lectura sufre alguna avería que provoca que algunas lecturas se disparen, por esta razón se quiere emplear un método de correlación robusto. El objetivo de este ejemplo es ilustrar el método de Jackknife, por lo que se asume que se cumplen las condiciones para la correlación de Pearson. \n",
    "#Datos: \n"
   ]
  },
  {
   "cell_type": "code",
   "execution_count": null,
   "metadata": {},
   "outputs": [],
   "source": [
    "# Datos simulados de dos variables A y B\n",
    "a = np.array([12,9,6,7,2,5,4,0,1,8])\n",
    "b = np.array([3,5,1,9,5,3,7,2,10,5])\n",
    "\n",
    "# Se introduce un outlier\n",
    "a[5] = 20\n",
    "b[5] = 16\n",
    "# Gráfico\n",
    "# ==============================================================================\n",
    "fig, ax = plt.subplots(1, 1, figsize=(6,4))\n",
    "ax.plot(a, label='A')\n",
    "ax.plot(b, label='B')\n",
    "ax.set_xlabel('ID muestra')\n",
    "ax.set_ylabel('Concentración')\n",
    "ax.set_title('Concentración sustancias A y B en las muestras')\n",
    "x.legend();\n"
   ]
  },
  {
   "cell_type": "markdown",
   "metadata": {},
   "source": [
    "# Correlación de Pearson: \n",
    "###Se procede a calcular la correlación de Pearson con y sin el outlier.\n"
   ]
  },
  {
   "cell_type": "code",
   "execution_count": null,
   "metadata": {},
   "outputs": [],
   "source": [
    "# Correlación con outlier\n",
    "r, p = stats.pearsonr(a, b)\n",
    "print(f'Correlación Pearson con outlier: r={r}, p-value={p}')\n",
    "# Correlación sin outlier\n",
    "r, p = stats.pearsonr(np.delete(a, 5), np.delete(b, 5))\n",
    "print(f'Correlación Pearson sin outlier: r={r}, p-value={p}')\n"
   ]
  },
  {
   "cell_type": "markdown",
   "metadata": {},
   "source": [
    "### Correlación Pearson con outlier: r=0.517373115168915, p-value=0.12563522982639538\n",
    "### Correlación Pearson sin outlier: r=-0.18420184544326057, p-value=0.6351961086690547\n",
    "### Se confirma que, La observación número 5, tiene una gran influencia en el resultado de la correlación, siendo de 0.52 si está presente y de -0.18 si se excluye.\n",
    "# Jackknife Pearson correlation\n"
   ]
  },
  {
   "cell_type": "code",
   "execution_count": null,
   "metadata": {},
   "outputs": [],
   "source": [
    "# Función Jackknife correlation\n",
    "# ==============================================================================\n",

    "def correlacion_jackknife(x, y):\n",
    "    '''\n",
    "    Esta función aplica el método de Jackknife para el cálculo del coeficiente\n",
    "    de correlación de Pearson.\n",
    
    "    Parameters\n",
    "    ----------\n",
    "    x : 1D np.ndarray, pd.Series \n",
    "        Variable X.\n",
        
    "    y : 1D np.ndarray, pd.Series\n",
    "        Variable y.     \n",

    "    Returns \n",
    "    -------\n",
    "    correlaciones: 1D np.ndarray\n",
    "        Valor de correlación para cada iteración de Jackknife\n",
    "    '''\n",
    
    "    n = len(x)\n",
    "    valores_jackknife = np.full(shape=n, fill_value=np.nan, dtype=float)\n",
    
    "    for i in range(n):\n",
    "        # Loop para excluir cada observación y calcular la correlación\n",
    "        r = stats.pearsonr(np.delete(x, i), np.delete(y, i))[0]\n",
    "        valores_jackknife[i] = r\n",
    
    "    promedio_jackknife = np.nanmean(valores_jackknife)\n",
    "    standar_error = np.sqrt(((n - 1) / n) * \\n",
    "                    np.nansum((valores_jackknife - promedio_jackknife) ** 2))\n",
    "    bias = (n - 1) * (promedio_jackknife - stats.pearsonr(x, y)[0])\n",
        
    "    resultados = {\n",
    "        'valores_jackknife' : valores_jackknife,\n",
    "        'promedio'          : promedio_jackknife,\n",
    "        'se'                : standar_error,\n",
    "        'bias'              : bias\n",
    "    }\n",
        
    "    return resultados\n",
    "correlacion = correlacion_jackknife(x=a, y=b)\n",
    "print(f'Correlación jackknife: {correlacion['promedio']}')\n",
    "print(f'Error estándar: {correlacion['se']}')\n",
    "print(f'Error bias: {correlacion['bias']}')\n",
    "print(f'Valores_jackknife: {correlacion['valores_jackknife']}'\n"
   ]
  },
  {
   "cell_type": "code",
   "execution_count": null,
   "metadata": {},
   "outputs": [],
   "source": [
    "import random\n",
    "  m = m+1\n",
    "print(\"\")\n",
    "print (\"Veamos cuantos adivinaste xd\")\n",
    "print(\"\")\n",
    "print (\"Adivinaste: \",reptar,\" Nada mal :y\")\n",
    "print(\"\")\n"
   ]
  }
 ],
 "metadata": {
  "kernelspec": {
   "display_name": "Python 3",
   "language": "python",
   "name": "python3"
  },
  "language_info": {
   "codemirror_mode": {
    "name": "ipython",
    "version": 3
   },
   "file_extension": ".py",
   "mimetype": "text/x-python",
   "name": "python",
   "nbconvert_exporter": "python",
   "pygments_lexer": "ipython3",
   "version": "3.7.3"
  }
 },
 "nbformat": 4,
 "nbformat_minor": 2
}
