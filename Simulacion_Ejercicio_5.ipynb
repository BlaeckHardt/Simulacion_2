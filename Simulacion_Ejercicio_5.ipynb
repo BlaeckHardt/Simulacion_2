{
 "cells": [
  {
   "cell_type": "markdown",
   "metadata": {},
   "source": [
    "# Ejercicio 5: \n",
    "\n",
    "## Si se tiene, para cada punto aleatorio:\n",
    "## $X_i=1$ si cae dentro del circulo y\n",
    "## $X_i=0$ si cae fuera del circulo\n",
    "## $E[X_i]=\\frac{\\pi}{4}$ y $V[X_i]=\\frac{4\\pi-\\pi^2}{16}$\n",
    "## Si definimos la variable $Z_N =4\\frac{X_1 + X_2 + ... + X_N}{N}$\n",
    "\n",
    "##    a) Calcular  $E[Z_N]$ y $V[Z_N]$\n"
   ]
  },
  {
   "cell_type": "code",
   "execution_count": null,
   "metadata": {},
   "outputs": [],
   "source": [
    "import random \n",
    "print (\"Si se tiene, para cada punto aleatorio:\") \n",
    "print (\"X_i=1 si cae dentro del circulo y\") \n",
    "print (\"X_i=0 si cae fuera del circulo\") \n",
    "print (\"E[X_i] = pi/4 y V[X_i] = (pi/4)*(1 - pi/4)\") \n",
    "print (\"Si definimos la variable Zn = (x_1 + x_2 + ... + x_n)/N\") \n",
    "print (\"Ahora calcularemos E[Z_N] y V[Z_N]\") \n",
    "N = int(input(\"¿Cuantos dardos se lanzarán? \"))#Numero de dardos que se lanzan \n",
    "def p_Taylor(n): \n",
    "  x_i = 0 \n",
    "  for i in range(n): \n",
    "    x_1 = random.random() \n",
    "    y_1 = random.random() \n",
    "    z = ((x_1**2)+(y_1**2))**(1/2) \n",
    "    if z < 1: \n",
    "      x_i = x_i+1 \n",
    "  p = 4*(x_i/n) \n",
    "  return p \n",
    "Pp = p_Taylor(N) #E[Z_N] \n",
    "var = (16*Pp*(1-Pp))/N #var[Z_N] \n",
    "print (\"E[Z_N] = \",Pp,\" o bien, pi\") \n",
    "print (\"V[Z_N] = \",var,\" o bien, (4*pi-pi^2)/N\")\n"
   ]
  },
  {
   "cell_type": "markdown",
   "metadata": {},
   "source": [
    "##    b) ¿Cuál debe ser el valor de $N$ para que el error sea de 0.01?\n"
   ]
  },
  {
   "cell_type": "code",
   "execution_count": null,
   "metadata": {},
   "outputs": [],
   "source": [
    "import random\n",
    "print(\"ok, ahora deberás adivinar que colores saldrán xd\")\n",
    "lis=[]\n",
    "print(\"\")\n",
    "print(\"   Blanco (Bl)\")\n",
    "print(\"   Negro (Ne)\")\n",
    "print(\"   Rojo (Ro)\")\n",
    "print(\"   Azul (Az)\")\n",
    "print(\"   Verde (Ve)\")\n",
    "print(\"\")\n",
    "print (\"ok, tendrás que escribir que colores saldran y en que orden, por ejemplo, rojo, rojo, azul, blanco, negro (Ro, Ro, Az, Bl, Ne), capicci? Unicamente 5\")\n",
    "l = 0\n",
    "while l < 5:\n",
    "  f = str(input(\">> \"))\n",
    "  lis.append(f)\n",
    "  l = l+1\n",
    "m = 0\n",
    "reptar = 0\n",
    "while m < 5:\n",
    "  t = random.random()\n",
    "  if t < 0.2:\n",
    "    if lis[m] = = 'Bl': #Blanco\n",
    "      print (\"Blanco, ¡Ganaste!\")\n",
    "      reptar = reptar+1\n",
    "    else:\n",
    "      print (\"Blanco, ¡Perdiste! xD\")\n",
    "  elif t > 0.2 and t < 0.4:\n",
    "    if lis[m] = = 'Ne': #Negro\n",
    "      print (\"Negro, ¡Ganaste!\")\n",
    "      reptar = reptar+1\n",
    "    else:\n",
    "      print (\"Negro, ¡Perdiste! xD\")\n",
    "  elif t > 0.4 and t < 0.6:\n",
    "    if lis[m] = = 'Ro': #Rojo\n",
    "      print (\"Rojo, ¡Ganaste!\")\n",
    "      reptar = reptar+1\n",
    "    else:\n",
    "      print (\"Rojo, ¡Perdiste! xD\")\n",
    "  elif t > 0.6 and t < 0.8:\n",
    "    if lis[m] = = 'Az': #Azul\n",
    "      print (\"Azul, ¡Ganaste!\")\n",
    "      reptar = reptar+1\n",
    "    else:\n",
    "      print (\"Azul, ¡Perdiste! xD\")\n",
    "  else:\n",
    "    if lis[m] = = 'Ve': #Verde\n",
    "      print (\"Verde, ¡Ganaste!\")\n",
    "      reptar = reptar+1\n",
    "    else:\n",
    "      print (\"Verde, ¡Perdiste! xD\")\n",
    "  m = m+1\n",
    "print(\"\")\n",
    "print (\"Veamos cuantos adivinaste xd\")\n",
    "print(\"\")\n",
    "print (\"Adivinaste: \",reptar,\" Nada mal :y\")\n",
    "print(\"\")\n"
   ]
  }
 ],
 "metadata": {
  "kernelspec": {
   "display_name": "Python 3",
   "language": "python",
   "name": "python3"
  },
  "language_info": {
   "codemirror_mode": {
    "name": "ipython",
    "version": 3
   },
   "file_extension": ".py",
   "mimetype": "text/x-python",
   "name": "python",
   "nbconvert_exporter": "python",
   "pygments_lexer": "ipython3",
   "version": "3.7.3"
  }
 },
 "nbformat": 4,
 "nbformat_minor": 2
}
