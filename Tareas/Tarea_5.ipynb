{
  "nbformat": 4,
  "nbformat_minor": 0,
  "metadata": {
    "colab": {
      "name": "Tarea_5_SimulaciónII.ipynb",
      "provenance": []
    },
    "kernelspec": {
      "name": "python3",
      "display_name": "Python 3"
    },
    "language_info": {
      "name": "python"
    }
  },
  "cells": [
    {
      "cell_type": "code",
      "execution_count": 27,
      "metadata": {
        "colab": {
          "base_uri": "https://localhost:8080/"
        },
        "id": "Fg0QEHzxAEG-",
        "outputId": "58cf9c66-8969-44ff-a409-b0021678fdfc"
      },
      "outputs": [
        {
          "output_type": "stream",
          "name": "stdout",
          "text": [
            "\n"
          ]
        }
      ],
      "source": [
        "import random\n",
        "import matplotlib.pyplot as plt\n",
        "\n",
        "lambd = 1.3               #Tiempo promedio de llegadas\n",
        "my = 1                    #tiempo de atención\n",
        "t = 0                     #tiempo transcrurrido\n",
        "NA = 0                    #numero de llegadas\n",
        "ND = 0                    #numero de salidas\n",
        "tA = random.expovariate(lambd) #hora de la primer llegada\n",
        "tD = 1000000              #hora de salida\n",
        "T = 100                   #Tiempo de simulación\n",
        "x = []                    #Tiempos de ingreso y salida\n",
        "y = []                    #Personas en el sistema\n",
        "\n",
        "print(\"+-----------------------+-----------------------+\")\n",
        "print(\"| Personas en sistema\\t|  Tiempo de llegada \\t|\")\n",
        "print(\"+-----------------------+-----------------------+\")\n",
        "\n",
        "while (min(tA,tD)) < T:\n",
        "    if tA <= tD:\n",
        "        t = tA\n",
        "        NA += 1\n",
        "        x.append(t)\n",
        "        y.append(NA)\n",
        "        print(\"|\\t%5d\\t\\t|\"%NA, \"\\t%10.3f\\t|\"%t)\n",
        "        tA = t + random.expovariate(lambd)\n",
        "        if NA == 1: \n",
        "            tD = t + random.expovariate(my)\n",
        "    else:\n",
        "        t = tD\n",
        "        NA = NA - 1\n",
        "        x.append(t)\n",
        "        y.append(NA)\n",
        "        print(\"|\\t%5d \\t\\t|\"%NA, \"\\t%10.3f\\t|\"%t)\n",
        "        if NA > 0:\n",
        "            tD = t + random.expovariate(my)\n",
        "        else:\n",
        "            tD = 1000000 "
      ]
    },
    {
      "cell_type": "code",
      "source": [
        "plt.step(x,y,color = 'Green')\n",
        "plt.show()"
      ],
      "metadata": {
        "colab": {
          "base_uri": "https://localhost:8080/",
          "height": 265
        },
        "id": "3Cw1zuarMC2i",
        "outputId": "81328763-46af-40b6-f171-fe18e2677b5a"
      },
      "execution_count": 26,
      "outputs": [
        {
          "output_type": "display_data",
          "data": {
            "text/plain": [
              "<Figure size 432x288 with 1 Axes>"
            ],
            "image/png": "[encoded data removed]"
          },
          "metadata": {
            "needs_background": "light"
          }
        }
      ]
    }
  ]
}
