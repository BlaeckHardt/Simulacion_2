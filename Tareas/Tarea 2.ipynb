{
 "cells": [
  {
   "cell_type": "markdown",
   "metadata": {},
   "source": [
    "# Tarea 2 - Integral por Montecarlo: \n",
    "##    Calcular la integral de raíz cuadrada de arco tangente de 0 a 1, usando un método de MC similar al que usamos para estimar pi.\n"
   ]
  },
  {
   "cell_type": "code",
   "execution_count": null,
   "metadata": {},
   "outputs": [],
   "source": [
    "import random\n",
    "import matplotlib.pyplot as plt \n",
    "import numpy as np \n",
    "import math\n",
    "x = np.linspace(0, 1, 100)\n",
    "y = np.sqrt(np.arctan(x)) # Ecuación de la curva en el primer cuadrante\n", 
    "N = int(input(\"¿Cuantos dardos se lanzarán? \")) #Numero de dardos que se lanzan\n",
    "m = 0 #numero de dardos que hay dentro de la circunferencia\n",
    "count = 0 \n",
    "fig = plt.figure(1, figsize = (10, 10)) # Aquí fijamos el formato de la gráfica para que sea cuadrada.\n",
    "plt.plot(x, y, color = 'red', markersize = 1) \n",
    "while count < N:\n",
    "  x_1 = random.random()\n",
    "  y_1 = random.random()\n",
    "  plt.scatter(x_1, y_1, s = 20, c = 'blue') #Punto aleatorio que se graficará\n",
    "  z = ((math.atan(x_1)**(1/2))/y_1)#operacion para determinar si esta dentro o fuera de la curva\n",
    "  if z < 1:\n",
    "    m = m+1 #el dardo está dentro de la función\n",
    "  count = count+1 \n",
    "plt.title(\"Estimación de la raíz cuadrada de arco tangente de 0 a 1 \")\n",
    "plt.xlabel('X')\n",
    "plt.ylabel('Y')\n",
    "plt.grid()\n",
    "plt.show()\n",
    "pi = 4*(m/N) #valor debajo de la curva\n",
    "print (\"el valor de la raíz cuadrada de arco tangente de 0 a 1 es: \",pi)\n",
    "print (\"\")\n"
   ]
  }
 ],
 "metadata": {
  "kernelspec": {
   "display_name": "Python 3",
   "language": "python",
   "name": "python3"
  },
  "language_info": {
   "codemirror_mode": {
    "name": "ipython",
    "version": 3
   },
   "file_extension": ".py",
   "mimetype": "text/x-python",
   "name": "python",
   "nbconvert_exporter": "python",
   "pygments_lexer": "ipython3",
   "version": "3.7.3"
  }
 },
 "nbformat": 4,
 "nbformat_minor": 2
}
