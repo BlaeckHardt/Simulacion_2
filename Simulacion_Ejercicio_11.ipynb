{
 "cells": [
  {
   "cell_type": "markdown",
   "metadata": {},
   "source": [
    "# Ejercicio 11: \n",
    "## \n",
    "###    Simular dos distribuciones de probabilidad (no la normal, no la exponencial), por el método que se prefiera.\n",
    "### Antes de proceder a simular las distribuciones de probabilidad veamos la distribucion de probabilidad exponencial bajo dos metodos. \n",
    "### **Metodo A** \n"
   ]
  },
  {
   "cell_type": "code",
   "execution_count": null,
   "metadata": {},
   "outputs": [],
   "source": [
    "import random    # importamos el módulo random \n",
    "import matplotlib.pyplot as plt    # ídem \n",
    "from statistics import mean, median, variance, stdev     # exportamos funciones especificas de statistics \n",
    "nums = [] \n",
    "lamb = 0.01 \n",
    "for i in range(1000): \n",
    "  temp = random.expovariate(lamb) \n",
    "  nums.append(temp) \n",
    "plt.hist(nums, bins = 100) \n",
    "plt.show() \n"
   ]
  },
  {
   "cell_type": "markdown",
   "metadata": {},
   "source": [
    "### **Metodo B** \n"
   ]
  },
  {
   "cell_type": "code",
   "execution_count": null,
   "metadata": {},
   "outputs": [],
   "source": [
    "import random    # importamos el módulo random \n",
    "import matplotlib.pyplot as plt    # ídem \n",
    "from statistics import mean, median, variance, stdev     # exportamos funciones especificas de statistics \n",
    "plt.hist([random.expovariate(100) for i in range(10000)], bins = 200) \n",
    "plt.show() \n"
   ]
  },
  {
   "cell_type": "markdown",
   "metadata": {},
   "source": [
    "### **Metodo B con parámetros adicionales** \n"
   ]
  },
  {
   "cell_type": "code",
   "execution_count": null,
   "metadata": {},
   "outputs": [],
   "source": [
    "import random    # importamos el módulo random \n",
    "import matplotlib.pyplot as plt    # ídem \n",
    "from statistics import mean, median, variance, stdev     # exportamos funciones especificas de statistics \n",
    "sample = [random.expovariate(100) for i in range(10000)] \n",
    "plt.hist(sample, bins = 200) \n",
    "plt.show() \n",
    "print(f'Media: {mean(sample):.5f}.  Mediana: {median(sample):.5f}.') \n",
    "print(f'Varianza: {variance(sample):.5f}.  Desviación estándar: {stdev(sample):.5f}.') \n"
   ]
  }
 ],
 "metadata": {
  "kernelspec": {
   "display_name": "Python 3",
   "language": "python",
   "name": "python3"
  },
  "language_info": {
   "codemirror_mode": {
    "name": "ipython",
    "version": 3
   },
   "file_extension": ".py",
   "mimetype": "text/x-python",
   "name": "python",
   "nbconvert_exporter": "python",
   "pygments_lexer": "ipython3",
   "version": "3.7.3"
  }
 },
 "nbformat": 4,
 "nbformat_minor": 2
}
