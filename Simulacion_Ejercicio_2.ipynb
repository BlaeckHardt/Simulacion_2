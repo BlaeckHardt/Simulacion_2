{
 "cells": [
  {
   "cell_type": "markdown",
   "metadata": {},
   "source": [
    "# Ejercicio 2: \n",
    "##    a) Simular un sorteo de los colores blanco, negro, rojo, azul y verde.\n"
   ]
  },
  {
   "cell_type": "code",
   "execution_count": null,
   "metadata": {},
   "outputs": [],
   "source": [
    "import random\n",
    "print(\"De los siguientes colores escoge uno xD\")\n",
    "print(\"   Blanco (Bl)\")\n",
    "print(\"   Negro (Ne)\")\n",
    "print(\"   Rojo (Ro)\")\n",
    "print(\"   Azul (Az)\")\n",
    "print(\"   Verde (Ve)\")\n",
    "c = str(input(\">> \"))\n",
    "print(\"\")\n",
    "w = random.random()\n",
    "if w < 0.2:\n",
    "  if c = = 'Bl': #Blanco\n",
    "    print (\"Blanco, ¡Ganaste!\")\n",
    "  else:\n",
    "    print (\"Blanco, ¡Perdiste! xD\")\n",
    "elif w > 0.2 and w < 0.4:\n",
    "  if c = = 'Ne': #Negro\n",
    "    print (\"Negro, ¡Ganaste!\")\n",
    "  else:\n",
    "    print (\"Negro, ¡Perdiste! xD\")\n",
    "elif w > 0.4 and w < 0.6:\n",
    "  if c = = 'Ro': #Rojo\n",
    "    print (\"Rojo, ¡Ganaste!\")\n",
    "  else:\n",
    "    print (\"Rojo, ¡Perdiste! xD\")\n",
    "elif w > 0.6 and w < 0.8:\n",
    "  if c = = 'Az': #Azul\n",
    "    print (\"Azul, ¡Ganaste!\")\n",
    "  else:\n",
    "    print (\"Azul, ¡Perdiste! xD\")\n",
    "else:\n",
    "  if c = = 'Ve': #Verde\n",
    "    print (\"Verde, ¡Ganaste!\")\n",
    "  else:\n",
    "    print (\"Verde, ¡Perdiste! xD\")\n"
   ]
  },
  {
   "cell_type": "markdown",
   "metadata": {},
   "source": [
    "##    b) Simular 5 sorteos con sustitución.\n"
   ]
  },
  {
   "cell_type": "code",
   "execution_count": null,
   "metadata": {},
   "outputs": [],
   "source": [
    "import random\n",
    "print(\"ok, ahora deberás adivinar que colores saldrán xd\")\n",
    "lis=[]\n",
    "print(\"\")\n",
    "print(\"   Blanco (Bl)\")\n",
    "print(\"   Negro (Ne)\")\n",
    "print(\"   Rojo (Ro)\")\n",
    "print(\"   Azul (Az)\")\n",
    "print(\"   Verde (Ve)\")\n",
    "print(\"\")\n",
    "print (\"ok, tendrás que escribir que colores saldran y en que orden, por ejemplo, rojo, rojo, azul, blanco, negro (Ro, Ro, Az, Bl, Ne), capicci? Unicamente 5\")\n",
    "l = 0\n",
    "while l < 5:\n",
    "  f = str(input(\">> \"))\n",
    "  lis.append(f)\n",
    "  l = l+1\n",
    "m = 0\n",
    "reptar = 0\n",
    "while m < 5:\n",
    
    
    "x = random.random() \n",
    "b = str(input(\"Escoge, ¿aguila o sol? \"))\n",
    "print(\"\")\n",
    "count = 0 \n",
    "sol = 0 \n",
    "aguila = 0 \n",
    "while count < 1000:\n",
    "  y = random.random()\n",
    "  if y < 0.5:\n",
    "    sol = sol+1 \n",
    "  else:\n",
    "    aguila = aguila+1 \n",
    "  count = count+1 \n",
    "if sol < aguila:\n",
    "  if b = = 'aguila':\n",
    "    print (\"Aguila, ¡Ganaste!\")\n",
    "  else:\n",
    "    print (\"Aguila, ¡Perdiste! xD\")\n",
    "else:\n",
    "  if b = = 'sol':\n",
    "    print (\"Sol, ¡Ganaste!\")\n",
    "  else:\n",
    "    print (\"Sol, ¡Perdiste! xD\")\n"
   ]
  },
  {
   "cell_type": "markdown",
   "metadata": {},
   "source": [
    "##    c) Determinar de b) la probabilidad de que ocurra \"sol\" en un volado.\n"
   ]
  },
  {
   "cell_type": "code",
   "execution_count": null,
   "metadata": {},
   "outputs": [],
   "source": [
    "import random",
    "x = random.random() \n",
    "b = str(input(\"Escoge, ¿aguila o sol? \"))\n",
    "print(\"\")\n",
    "count = 0 \n",
    "sol = 0 \n",
    "aguila = 0 \n",
    "while count < 1000:\n",
    "  y = random.random()\n",
    "  if y < 0.5:\n",
    "    sol = sol+1 \n",
    "  else:\n",
    "    aguila = aguila+1 \n",
    "  count = count+1 \n",
    "PA = aguila/count \n",
    "PS = sol/count \n",
    "print(\"\")\n",
    "print(\"La probabilidad de obtener aguila era de: \",PA)\n",
    "print(\"La probabilidad de obtener sol era de: \",PS)\n",
    "print(\"\")\n"
   ]
  }
 ],
 "metadata": {
  "kernelspec": {
   "display_name": "Python 3",
   "language": "python",
   "name": "python3"
  },
  "language_info": {
   "codemirror_mode": {
    "name": "ipython",
    "version": 3
   },
   "file_extension": ".py",
   "mimetype": "text/x-python",
   "name": "python",
   "nbconvert_exporter": "python",
   "pygments_lexer": "ipython3",
   "version": "3.7.3"
  }
 },
 "nbformat": 4,
 "nbformat_minor": 2
}
